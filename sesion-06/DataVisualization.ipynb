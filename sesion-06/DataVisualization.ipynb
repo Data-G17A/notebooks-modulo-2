{
  "cells": [
    {
      "cell_type": "markdown",
      "metadata": {
        "id": "RqxaThaOPwel"
      },
      "source": [
        "# Data Visualization"
      ]
    },
    {
      "cell_type": "markdown",
      "metadata": {
        "id": "fkrbhkhpPwer"
      },
      "source": [
        "En nuestras actividades del día a día como científicos de datos, regularmente utilizaremos las siguientes 7 gráficas:"
      ]
    },
    {
      "cell_type": "markdown",
      "metadata": {
        "id": "3EzeIkZbPwet"
      },
      "source": [
        "1. Gráfica de dispersión (scatter plot)\n",
        "2. Gráfica de lineas\n",
        "3. Histograma (histogram)\n",
        "4. Gráfica de barras y gráfica de barras apiladas (bar & stack bar chart)\n",
        "5. Gráfica de caja o bigotes (Box plot)\n",
        "6. Mapa de calor (Heatmap)\n",
        "7. Mapa de correlación (Correlogram)\n"
      ]
    },
    {
      "cell_type": "markdown",
      "metadata": {
        "id": "dz9NisjpPweu",
        "toc-hr-collapsed": true,
        "toc-nb-collapsed": true
      },
      "source": [
        "## Paquetes a utilizar"
      ]
    },
    {
      "cell_type": "code",
      "execution_count": 1,
      "metadata": {
        "id": "wr_zysy3Pwev"
      },
      "outputs": [
        {
          "name": "stderr",
          "output_type": "stream",
          "text": [
            "c:\\Users\\Andrea Gomez\\miniconda3\\envs\\BigData\\lib\\site-packages\\numpy\\_distributor_init.py:30: UserWarning: loaded more than 1 DLL from .libs:\n",
            "c:\\Users\\Andrea Gomez\\miniconda3\\envs\\BigData\\lib\\site-packages\\numpy\\.libs\\libopenblas.4SP5SUA7CBGXUEOC35YP2ASOICYYEQZZ.gfortran-win_amd64.dll\n",
            "c:\\Users\\Andrea Gomez\\miniconda3\\envs\\BigData\\lib\\site-packages\\numpy\\.libs\\libopenblas.GK7GX5KEQ4F6UYO3P26ULGBQYHGQO7J4.gfortran-win_amd64.dll\n",
            "  warnings.warn(\"loaded more than 1 DLL from .libs:\"\n"
          ]
        }
      ],
      "source": [
        "import numpy as np\n",
        "import pandas as pd\n",
        "import matplotlib.pyplot as plt\n",
        "#Se utilizar para mostrar la gráfica inmediatamente después del código \n",
        "%matplotlib inline \n",
        "import seaborn as sns"
      ]
    },
    {
      "cell_type": "code",
      "execution_count": 51,
      "metadata": {
        "id": "n0WaR5hBudm5"
      },
      "outputs": [
        {
          "name": "stdout",
          "output_type": "stream",
          "text": [
            "Requirement already satisfied: bubbly in c:\\users\\andrea gomez\\miniconda3\\envs\\bigdata\\lib\\site-packages (1.0.2)\n",
            "Requirement already satisfied: pandas in c:\\users\\andrea gomez\\miniconda3\\envs\\bigdata\\lib\\site-packages (from bubbly) (1.3.3)\n",
            "Requirement already satisfied: plotly in c:\\users\\andrea gomez\\miniconda3\\envs\\bigdata\\lib\\site-packages (from bubbly) (5.8.2)\n",
            "Requirement already satisfied: pytz>=2017.3 in c:\\users\\andrea gomez\\miniconda3\\envs\\bigdata\\lib\\site-packages (from pandas->bubbly) (2021.3)\n",
            "Requirement already satisfied: python-dateutil>=2.7.3 in c:\\users\\andrea gomez\\appdata\\roaming\\python\\python39\\site-packages (from pandas->bubbly) (2.8.1)\n",
            "Requirement already satisfied: numpy>=1.17.3 in c:\\users\\andrea gomez\\miniconda3\\envs\\bigdata\\lib\\site-packages (from pandas->bubbly) (1.20.0)\n",
            "Requirement already satisfied: six>=1.5 in c:\\users\\andrea gomez\\miniconda3\\envs\\bigdata\\lib\\site-packages (from python-dateutil>=2.7.3->pandas->bubbly) (1.16.0)\n",
            "Requirement already satisfied: tenacity>=6.2.0 in c:\\users\\andrea gomez\\miniconda3\\envs\\bigdata\\lib\\site-packages (from plotly->bubbly) (8.0.1)\n"
          ]
        }
      ],
      "source": [
        "!pip install bubbly"
      ]
    },
    {
      "cell_type": "code",
      "execution_count": 52,
      "metadata": {
        "id": "V651RWr2um-M"
      },
      "outputs": [],
      "source": [
        "from bubbly.bubbly import bubbleplot \n",
        "from plotly.offline import init_notebook_mode, iplot"
      ]
    },
    {
      "cell_type": "code",
      "execution_count": null,
      "metadata": {
        "id": "GgSSHq4d-EXo"
      },
      "outputs": [],
      "source": [
        "#Seaborn es más que una mera librería de visualización, es una librería para representación estadística, \n",
        "#ya que muestra fácilmente la relación que guardan los datos para detectar tendencias y patrones.\n",
        "#https://medium.com/ironhack/data-visualization-con-pandas-y-seaborn-1044906af34f"
      ]
    },
    {
      "cell_type": "code",
      "execution_count": null,
      "metadata": {
        "id": "HdQGsgo-83O1"
      },
      "outputs": [],
      "source": [
        "#matplotlib.pyplot Es una interfaz basada en estados para matplotlib. \n",
        "#Proporciona una forma de graficar similar a MATLAB"
      ]
    },
    {
      "cell_type": "markdown",
      "metadata": {
        "id": "Lv3mRSKpPwew"
      },
      "source": [
        "### Importamos nuestros datos"
      ]
    },
    {
      "cell_type": "markdown",
      "metadata": {
        "id": "ypbawYwtPwex"
      },
      "source": [
        "El dataset iris es uno de los más utilizados en ejercicios básicos de aprendizaje automático. Es breve, limpio y sus datos están muy bien distribuidos."
      ]
    },
    {
      "cell_type": "code",
      "execution_count": 4,
      "metadata": {
        "id": "3dEgX6PbPwey"
      },
      "outputs": [
        {
          "data": {
            "text/html": [
              "<div>\n",
              "<style scoped>\n",
              "    .dataframe tbody tr th:only-of-type {\n",
              "        vertical-align: middle;\n",
              "    }\n",
              "\n",
              "    .dataframe tbody tr th {\n",
              "        vertical-align: top;\n",
              "    }\n",
              "\n",
              "    .dataframe thead th {\n",
              "        text-align: right;\n",
              "    }\n",
              "</style>\n",
              "<table border=\"1\" class=\"dataframe\">\n",
              "  <thead>\n",
              "    <tr style=\"text-align: right;\">\n",
              "      <th></th>\n",
              "      <th>sepal_length</th>\n",
              "      <th>sepal_width</th>\n",
              "      <th>petal_length</th>\n",
              "      <th>petal_width</th>\n",
              "      <th>species</th>\n",
              "    </tr>\n",
              "  </thead>\n",
              "  <tbody>\n",
              "    <tr>\n",
              "      <th>0</th>\n",
              "      <td>5.1</td>\n",
              "      <td>3.5</td>\n",
              "      <td>1.4</td>\n",
              "      <td>0.2</td>\n",
              "      <td>setosa</td>\n",
              "    </tr>\n",
              "    <tr>\n",
              "      <th>1</th>\n",
              "      <td>4.9</td>\n",
              "      <td>3.0</td>\n",
              "      <td>1.4</td>\n",
              "      <td>0.2</td>\n",
              "      <td>setosa</td>\n",
              "    </tr>\n",
              "    <tr>\n",
              "      <th>2</th>\n",
              "      <td>4.7</td>\n",
              "      <td>3.2</td>\n",
              "      <td>1.3</td>\n",
              "      <td>0.2</td>\n",
              "      <td>setosa</td>\n",
              "    </tr>\n",
              "    <tr>\n",
              "      <th>3</th>\n",
              "      <td>4.6</td>\n",
              "      <td>3.1</td>\n",
              "      <td>1.5</td>\n",
              "      <td>0.2</td>\n",
              "      <td>setosa</td>\n",
              "    </tr>\n",
              "    <tr>\n",
              "      <th>4</th>\n",
              "      <td>5.0</td>\n",
              "      <td>3.6</td>\n",
              "      <td>1.4</td>\n",
              "      <td>0.2</td>\n",
              "      <td>setosa</td>\n",
              "    </tr>\n",
              "    <tr>\n",
              "      <th>...</th>\n",
              "      <td>...</td>\n",
              "      <td>...</td>\n",
              "      <td>...</td>\n",
              "      <td>...</td>\n",
              "      <td>...</td>\n",
              "    </tr>\n",
              "    <tr>\n",
              "      <th>145</th>\n",
              "      <td>6.7</td>\n",
              "      <td>3.0</td>\n",
              "      <td>5.2</td>\n",
              "      <td>2.3</td>\n",
              "      <td>virginica</td>\n",
              "    </tr>\n",
              "    <tr>\n",
              "      <th>146</th>\n",
              "      <td>6.3</td>\n",
              "      <td>2.5</td>\n",
              "      <td>5.0</td>\n",
              "      <td>1.9</td>\n",
              "      <td>virginica</td>\n",
              "    </tr>\n",
              "    <tr>\n",
              "      <th>147</th>\n",
              "      <td>6.5</td>\n",
              "      <td>3.0</td>\n",
              "      <td>5.2</td>\n",
              "      <td>2.0</td>\n",
              "      <td>virginica</td>\n",
              "    </tr>\n",
              "    <tr>\n",
              "      <th>148</th>\n",
              "      <td>6.2</td>\n",
              "      <td>3.4</td>\n",
              "      <td>5.4</td>\n",
              "      <td>2.3</td>\n",
              "      <td>virginica</td>\n",
              "    </tr>\n",
              "    <tr>\n",
              "      <th>149</th>\n",
              "      <td>5.9</td>\n",
              "      <td>3.0</td>\n",
              "      <td>5.1</td>\n",
              "      <td>1.8</td>\n",
              "      <td>virginica</td>\n",
              "    </tr>\n",
              "  </tbody>\n",
              "</table>\n",
              "<p>150 rows × 5 columns</p>\n",
              "</div>"
            ],
            "text/plain": [
              "     sepal_length  sepal_width  petal_length  petal_width    species\n",
              "0             5.1          3.5           1.4          0.2     setosa\n",
              "1             4.9          3.0           1.4          0.2     setosa\n",
              "2             4.7          3.2           1.3          0.2     setosa\n",
              "3             4.6          3.1           1.5          0.2     setosa\n",
              "4             5.0          3.6           1.4          0.2     setosa\n",
              "..            ...          ...           ...          ...        ...\n",
              "145           6.7          3.0           5.2          2.3  virginica\n",
              "146           6.3          2.5           5.0          1.9  virginica\n",
              "147           6.5          3.0           5.2          2.0  virginica\n",
              "148           6.2          3.4           5.4          2.3  virginica\n",
              "149           5.9          3.0           5.1          1.8  virginica\n",
              "\n",
              "[150 rows x 5 columns]"
            ]
          },
          "execution_count": 4,
          "metadata": {},
          "output_type": "execute_result"
        },
        {
          "name": "stdout",
          "output_type": "stream",
          "text": [
            "Collecting bubbly\n",
            "  Downloading bubbly-1.0.2.tar.gz (5.1 kB)\n",
            "Collecting plotly\n",
            "  Downloading plotly-5.8.2-py2.py3-none-any.whl (15.2 MB)\n",
            "Requirement already satisfied: pandas in c:\\users\\andrea gomez\\miniconda3\\envs\\bigdata\\lib\\site-packages (from bubbly) (1.3.3)\n",
            "Requirement already satisfied: pytz>=2017.3 in c:\\users\\andrea gomez\\miniconda3\\envs\\bigdata\\lib\\site-packages (from pandas->bubbly) (2021.3)\n",
            "Requirement already satisfied: numpy>=1.17.3 in c:\\users\\andrea gomez\\miniconda3\\envs\\bigdata\\lib\\site-packages (from pandas->bubbly) (1.20.0)\n",
            "Requirement already satisfied: python-dateutil>=2.7.3 in c:\\users\\andrea gomez\\appdata\\roaming\\python\\python39\\site-packages (from pandas->bubbly) (2.8.1)\n",
            "Requirement already satisfied: six>=1.5 in c:\\users\\andrea gomez\\miniconda3\\envs\\bigdata\\lib\\site-packages (from python-dateutil>=2.7.3->pandas->bubbly) (1.16.0)\n",
            "Collecting tenacity>=6.2.0\n",
            "  Downloading tenacity-8.0.1-py3-none-any.whl (24 kB)\n",
            "Building wheels for collected packages: bubbly\n",
            "  Building wheel for bubbly (setup.py): started\n",
            "  Building wheel for bubbly (setup.py): finished with status 'done'\n",
            "  Created wheel for bubbly: filename=bubbly-1.0.2-py3-none-any.whl size=5431 sha256=82ecfff94c8b3f017ae9d7735f0109d03f398b9b210ffdc12afddbc216e8c93d\n",
            "  Stored in directory: c:\\users\\andrea gomez\\appdata\\local\\pip\\cache\\wheels\\f7\\b8\\85\\5fdfe7bcc88b1579581f046004f953b05c9ca7387fb373cf2d\n",
            "Successfully built bubbly\n",
            "Installing collected packages: tenacity, plotly, bubbly\n",
            "Successfully installed bubbly-1.0.2 plotly-5.8.2 tenacity-8.0.1\n"
          ]
        }
      ],
      "source": [
        "iris = sns.load_dataset('iris')\n",
        "iris"
      ]
    },
    {
      "cell_type": "markdown",
      "metadata": {
        "id": "7rLTi0VkPwe2"
      },
      "source": [
        "El dataset gapminder proviene directamente de los datos del baco mundial y es muy probable que lo encuentres en estudios de desigualdad y derechos humanos"
      ]
    },
    {
      "cell_type": "code",
      "execution_count": 121,
      "metadata": {
        "id": "ZvodsrGJPwe2"
      },
      "outputs": [
        {
          "name": "stderr",
          "output_type": "stream",
          "text": [
            "Cloning into '''...\n",
            "fatal: protocol ''https' is not supported\n"
          ]
        },
        {
          "data": {
            "text/html": [
              "<div>\n",
              "<style scoped>\n",
              "    .dataframe tbody tr th:only-of-type {\n",
              "        vertical-align: middle;\n",
              "    }\n",
              "\n",
              "    .dataframe tbody tr th {\n",
              "        vertical-align: top;\n",
              "    }\n",
              "\n",
              "    .dataframe thead th {\n",
              "        text-align: right;\n",
              "    }\n",
              "</style>\n",
              "<table border=\"1\" class=\"dataframe\">\n",
              "  <thead>\n",
              "    <tr style=\"text-align: right;\">\n",
              "      <th></th>\n",
              "      <th>Unnamed: 0</th>\n",
              "      <th>country</th>\n",
              "      <th>year</th>\n",
              "      <th>population</th>\n",
              "      <th>cont</th>\n",
              "      <th>life_exp</th>\n",
              "      <th>gdp_cap</th>\n",
              "    </tr>\n",
              "  </thead>\n",
              "  <tbody>\n",
              "    <tr>\n",
              "      <th>0</th>\n",
              "      <td>11</td>\n",
              "      <td>Afghanistan</td>\n",
              "      <td>2007</td>\n",
              "      <td>31889923.0</td>\n",
              "      <td>Asia</td>\n",
              "      <td>43.828</td>\n",
              "      <td>974.580338</td>\n",
              "    </tr>\n",
              "    <tr>\n",
              "      <th>1</th>\n",
              "      <td>23</td>\n",
              "      <td>Albania</td>\n",
              "      <td>2007</td>\n",
              "      <td>3600523.0</td>\n",
              "      <td>Europe</td>\n",
              "      <td>76.423</td>\n",
              "      <td>5937.029526</td>\n",
              "    </tr>\n",
              "    <tr>\n",
              "      <th>2</th>\n",
              "      <td>35</td>\n",
              "      <td>Algeria</td>\n",
              "      <td>2007</td>\n",
              "      <td>33333216.0</td>\n",
              "      <td>Africa</td>\n",
              "      <td>72.301</td>\n",
              "      <td>6223.367465</td>\n",
              "    </tr>\n",
              "    <tr>\n",
              "      <th>3</th>\n",
              "      <td>47</td>\n",
              "      <td>Angola</td>\n",
              "      <td>2007</td>\n",
              "      <td>12420476.0</td>\n",
              "      <td>Africa</td>\n",
              "      <td>42.731</td>\n",
              "      <td>4797.231267</td>\n",
              "    </tr>\n",
              "    <tr>\n",
              "      <th>4</th>\n",
              "      <td>59</td>\n",
              "      <td>Argentina</td>\n",
              "      <td>2007</td>\n",
              "      <td>40301927.0</td>\n",
              "      <td>Americas</td>\n",
              "      <td>75.320</td>\n",
              "      <td>12779.379640</td>\n",
              "    </tr>\n",
              "    <tr>\n",
              "      <th>...</th>\n",
              "      <td>...</td>\n",
              "      <td>...</td>\n",
              "      <td>...</td>\n",
              "      <td>...</td>\n",
              "      <td>...</td>\n",
              "      <td>...</td>\n",
              "      <td>...</td>\n",
              "    </tr>\n",
              "    <tr>\n",
              "      <th>137</th>\n",
              "      <td>1655</td>\n",
              "      <td>Vietnam</td>\n",
              "      <td>2007</td>\n",
              "      <td>85262356.0</td>\n",
              "      <td>Asia</td>\n",
              "      <td>74.249</td>\n",
              "      <td>2441.576404</td>\n",
              "    </tr>\n",
              "    <tr>\n",
              "      <th>138</th>\n",
              "      <td>1667</td>\n",
              "      <td>West Bank and Gaza</td>\n",
              "      <td>2007</td>\n",
              "      <td>4018332.0</td>\n",
              "      <td>Asia</td>\n",
              "      <td>73.422</td>\n",
              "      <td>3025.349798</td>\n",
              "    </tr>\n",
              "    <tr>\n",
              "      <th>139</th>\n",
              "      <td>1679</td>\n",
              "      <td>Yemen, Rep.</td>\n",
              "      <td>2007</td>\n",
              "      <td>22211743.0</td>\n",
              "      <td>Asia</td>\n",
              "      <td>62.698</td>\n",
              "      <td>2280.769906</td>\n",
              "    </tr>\n",
              "    <tr>\n",
              "      <th>140</th>\n",
              "      <td>1691</td>\n",
              "      <td>Zambia</td>\n",
              "      <td>2007</td>\n",
              "      <td>11746035.0</td>\n",
              "      <td>Africa</td>\n",
              "      <td>42.384</td>\n",
              "      <td>1271.211593</td>\n",
              "    </tr>\n",
              "    <tr>\n",
              "      <th>141</th>\n",
              "      <td>1703</td>\n",
              "      <td>Zimbabwe</td>\n",
              "      <td>2007</td>\n",
              "      <td>12311143.0</td>\n",
              "      <td>Africa</td>\n",
              "      <td>43.487</td>\n",
              "      <td>469.709298</td>\n",
              "    </tr>\n",
              "  </tbody>\n",
              "</table>\n",
              "<p>142 rows × 7 columns</p>\n",
              "</div>"
            ],
            "text/plain": [
              "     Unnamed: 0             country  year  population      cont  life_exp  \\\n",
              "0            11         Afghanistan  2007  31889923.0      Asia    43.828   \n",
              "1            23             Albania  2007   3600523.0    Europe    76.423   \n",
              "2            35             Algeria  2007  33333216.0    Africa    72.301   \n",
              "3            47              Angola  2007  12420476.0    Africa    42.731   \n",
              "4            59           Argentina  2007  40301927.0  Americas    75.320   \n",
              "..          ...                 ...   ...         ...       ...       ...   \n",
              "137        1655             Vietnam  2007  85262356.0      Asia    74.249   \n",
              "138        1667  West Bank and Gaza  2007   4018332.0      Asia    73.422   \n",
              "139        1679         Yemen, Rep.  2007  22211743.0      Asia    62.698   \n",
              "140        1691              Zambia  2007  11746035.0    Africa    42.384   \n",
              "141        1703            Zimbabwe  2007  12311143.0    Africa    43.487   \n",
              "\n",
              "          gdp_cap  \n",
              "0      974.580338  \n",
              "1     5937.029526  \n",
              "2     6223.367465  \n",
              "3     4797.231267  \n",
              "4    12779.379640  \n",
              "..            ...  \n",
              "137   2441.576404  \n",
              "138   3025.349798  \n",
              "139   2280.769906  \n",
              "140   1271.211593  \n",
              "141    469.709298  \n",
              "\n",
              "[142 rows x 7 columns]"
            ]
          },
          "execution_count": 121,
          "metadata": {},
          "output_type": "execute_result"
        }
      ],
      "source": [
        "!git clone 'https://github.com/psterk1/data_analytics/'\n",
        "\n",
        "gdp = pd.read_csv(\"gapminder.csv\")\n",
        "gdp"
      ]
    },
    {
      "cell_type": "markdown",
      "metadata": {
        "id": "Z-hx7_fGPwe5"
      },
      "source": [
        "El siguiente dataset es uno de los que se encuentran precargados con el paquete seaborn. El dataset simula ser una base de datos que contiene información de fechas de vuelos y totales de pasajeros."
      ]
    },
    {
      "cell_type": "code",
      "execution_count": 8,
      "metadata": {
        "id": "rYEwxHcFPwe6"
      },
      "outputs": [
        {
          "data": {
            "text/html": [
              "<div>\n",
              "<style scoped>\n",
              "    .dataframe tbody tr th:only-of-type {\n",
              "        vertical-align: middle;\n",
              "    }\n",
              "\n",
              "    .dataframe tbody tr th {\n",
              "        vertical-align: top;\n",
              "    }\n",
              "\n",
              "    .dataframe thead th {\n",
              "        text-align: right;\n",
              "    }\n",
              "</style>\n",
              "<table border=\"1\" class=\"dataframe\">\n",
              "  <thead>\n",
              "    <tr style=\"text-align: right;\">\n",
              "      <th></th>\n",
              "      <th>year</th>\n",
              "      <th>month</th>\n",
              "      <th>passengers</th>\n",
              "    </tr>\n",
              "  </thead>\n",
              "  <tbody>\n",
              "    <tr>\n",
              "      <th>0</th>\n",
              "      <td>1949</td>\n",
              "      <td>Jan</td>\n",
              "      <td>112</td>\n",
              "    </tr>\n",
              "    <tr>\n",
              "      <th>1</th>\n",
              "      <td>1949</td>\n",
              "      <td>Feb</td>\n",
              "      <td>118</td>\n",
              "    </tr>\n",
              "    <tr>\n",
              "      <th>2</th>\n",
              "      <td>1949</td>\n",
              "      <td>Mar</td>\n",
              "      <td>132</td>\n",
              "    </tr>\n",
              "    <tr>\n",
              "      <th>3</th>\n",
              "      <td>1949</td>\n",
              "      <td>Apr</td>\n",
              "      <td>129</td>\n",
              "    </tr>\n",
              "    <tr>\n",
              "      <th>4</th>\n",
              "      <td>1949</td>\n",
              "      <td>May</td>\n",
              "      <td>121</td>\n",
              "    </tr>\n",
              "    <tr>\n",
              "      <th>...</th>\n",
              "      <td>...</td>\n",
              "      <td>...</td>\n",
              "      <td>...</td>\n",
              "    </tr>\n",
              "    <tr>\n",
              "      <th>139</th>\n",
              "      <td>1960</td>\n",
              "      <td>Aug</td>\n",
              "      <td>606</td>\n",
              "    </tr>\n",
              "    <tr>\n",
              "      <th>140</th>\n",
              "      <td>1960</td>\n",
              "      <td>Sep</td>\n",
              "      <td>508</td>\n",
              "    </tr>\n",
              "    <tr>\n",
              "      <th>141</th>\n",
              "      <td>1960</td>\n",
              "      <td>Oct</td>\n",
              "      <td>461</td>\n",
              "    </tr>\n",
              "    <tr>\n",
              "      <th>142</th>\n",
              "      <td>1960</td>\n",
              "      <td>Nov</td>\n",
              "      <td>390</td>\n",
              "    </tr>\n",
              "    <tr>\n",
              "      <th>143</th>\n",
              "      <td>1960</td>\n",
              "      <td>Dec</td>\n",
              "      <td>432</td>\n",
              "    </tr>\n",
              "  </tbody>\n",
              "</table>\n",
              "<p>144 rows × 3 columns</p>\n",
              "</div>"
            ],
            "text/plain": [
              "     year month  passengers\n",
              "0    1949   Jan         112\n",
              "1    1949   Feb         118\n",
              "2    1949   Mar         132\n",
              "3    1949   Apr         129\n",
              "4    1949   May         121\n",
              "..    ...   ...         ...\n",
              "139  1960   Aug         606\n",
              "140  1960   Sep         508\n",
              "141  1960   Oct         461\n",
              "142  1960   Nov         390\n",
              "143  1960   Dec         432\n",
              "\n",
              "[144 rows x 3 columns]"
            ]
          },
          "execution_count": 8,
          "metadata": {},
          "output_type": "execute_result"
        }
      ],
      "source": [
        "flights = sns.load_dataset(\"flights\")\n",
        "flights"
      ]
    },
    {
      "cell_type": "markdown",
      "metadata": {
        "id": "7tCI2BjJPwe7"
      },
      "source": [
        "## 1. Gráfica de dispersión (scatter plot)"
      ]
    },
    {
      "cell_type": "markdown",
      "metadata": {
        "id": "F0uttE09_nKS"
      },
      "source": [
        "Los gráficos de dispersión y de líneas pueden analizar la relación entre diferentes características numéricas. Entre ellos, los diagramas de dispersión se utilizan principalmente para analizar la correlación entre las características.\n",
        "\n",
        "Una dispersión puede proporcionar dos tipos de información clave:\n",
        "\n",
        "Si existe una tendencia de correlación numérica o cuantitativa entre las características y si la tendencia es lineal o no lineal;\n",
        "\n",
        "Observe si hay ruido en los datos y juzgue intuitivamente si el ruido tendrá un gran impacto en el modelo."
      ]
    },
    {
      "cell_type": "code",
      "execution_count": null,
      "metadata": {
        "id": "3jNMhY--PwfB"
      },
      "outputs": [],
      "source": [
        "#grafica de los datos (aqui mas info: https://seaborn.pydata.org/generated/seaborn.regplot.html)\n",
        "#Regresion: modelo matemático usado para aproximar la relación de dependencia entre una variable dependiente"
      ]
    },
    {
      "cell_type": "markdown",
      "metadata": {
        "id": "oigvMV7EPwfD"
      },
      "source": [
        "## Personalización de la gráfica"
      ]
    },
    {
      "cell_type": "markdown",
      "metadata": {
        "id": "7Dv9SApWPwfF"
      },
      "source": [
        "#### Mapear un color por cada grupo"
      ]
    },
    {
      "cell_type": "code",
      "execution_count": 13,
      "metadata": {
        "id": "1VmxoF3nPwfG"
      },
      "outputs": [
        {
          "data": {
            "text/html": [
              "<div>\n",
              "<style scoped>\n",
              "    .dataframe tbody tr th:only-of-type {\n",
              "        vertical-align: middle;\n",
              "    }\n",
              "\n",
              "    .dataframe tbody tr th {\n",
              "        vertical-align: top;\n",
              "    }\n",
              "\n",
              "    .dataframe thead th {\n",
              "        text-align: right;\n",
              "    }\n",
              "</style>\n",
              "<table border=\"1\" class=\"dataframe\">\n",
              "  <thead>\n",
              "    <tr style=\"text-align: right;\">\n",
              "      <th></th>\n",
              "      <th>sepal_length</th>\n",
              "      <th>sepal_width</th>\n",
              "      <th>petal_length</th>\n",
              "      <th>petal_width</th>\n",
              "      <th>species</th>\n",
              "    </tr>\n",
              "  </thead>\n",
              "  <tbody>\n",
              "    <tr>\n",
              "      <th>0</th>\n",
              "      <td>5.1</td>\n",
              "      <td>3.5</td>\n",
              "      <td>1.4</td>\n",
              "      <td>0.2</td>\n",
              "      <td>setosa</td>\n",
              "    </tr>\n",
              "    <tr>\n",
              "      <th>1</th>\n",
              "      <td>4.9</td>\n",
              "      <td>3.0</td>\n",
              "      <td>1.4</td>\n",
              "      <td>0.2</td>\n",
              "      <td>setosa</td>\n",
              "    </tr>\n",
              "    <tr>\n",
              "      <th>2</th>\n",
              "      <td>4.7</td>\n",
              "      <td>3.2</td>\n",
              "      <td>1.3</td>\n",
              "      <td>0.2</td>\n",
              "      <td>setosa</td>\n",
              "    </tr>\n",
              "    <tr>\n",
              "      <th>3</th>\n",
              "      <td>4.6</td>\n",
              "      <td>3.1</td>\n",
              "      <td>1.5</td>\n",
              "      <td>0.2</td>\n",
              "      <td>setosa</td>\n",
              "    </tr>\n",
              "    <tr>\n",
              "      <th>4</th>\n",
              "      <td>5.0</td>\n",
              "      <td>3.6</td>\n",
              "      <td>1.4</td>\n",
              "      <td>0.2</td>\n",
              "      <td>setosa</td>\n",
              "    </tr>\n",
              "  </tbody>\n",
              "</table>\n",
              "</div>"
            ],
            "text/plain": [
              "   sepal_length  sepal_width  petal_length  petal_width species\n",
              "0           5.1          3.5           1.4          0.2  setosa\n",
              "1           4.9          3.0           1.4          0.2  setosa\n",
              "2           4.7          3.2           1.3          0.2  setosa\n",
              "3           4.6          3.1           1.5          0.2  setosa\n",
              "4           5.0          3.6           1.4          0.2  setosa"
            ]
          },
          "execution_count": 13,
          "metadata": {},
          "output_type": "execute_result"
        },
        {
          "data": {
            "image/png": "[encoded data removed]",
            "text/plain": [
              "<Figure size 432x288 with 1 Axes>"
            ]
          },
          "metadata": {
            "needs_background": "light"
          },
          "output_type": "display_data"
        }
      ],
      "source": [
        "#ahora usando el lmplot para mostrar subconjuntos dentro de nuestros datos con una paleta de colores predefinida.                      (https://seaborn.pydata.org/generated/seaborn.lmplot.html)\n",
        "sns.regplot(x=iris['sepal_length'], y=iris['sepal_width'], fit_reg=False)\n",
        "# Acomodamos las leyendas/codigo de colores                                                                                             (mas info aqui: https://matplotlib.org/stable/tutorials/intermediate/legend_guide.html)\n",
        "iris.head()"
      ]
    },
    {
      "cell_type": "code",
      "execution_count": null,
      "metadata": {},
      "outputs": [],
      "source": []
    },
    {
      "cell_type": "code",
      "execution_count": 20,
      "metadata": {
        "id": "yel9AypaApfM"
      },
      "outputs": [
        {
          "data": {
            "text/plain": [
              "<matplotlib.legend.Legend at 0x151cf318f10>"
            ]
          },
          "execution_count": 20,
          "metadata": {},
          "output_type": "execute_result"
        },
        {
          "data": {
            "image/png": "[encoded data removed]",
            "text/plain": [
              "<Figure size 360x360 with 1 Axes>"
            ]
          },
          "metadata": {
            "needs_background": "light"
          },
          "output_type": "display_data"
        }
      ],
      "source": [
        "#ahora usando el lmplot para mostrar subconjuntos dentro de nuestros datos.                                    (https://seaborn.pydata.org/generated/seaborn.lmplot.html)\n",
        "#usando colores personalizados\n",
        "sns.lmplot(x = \"sepal_length\", y = \"sepal_width\", data = iris, hue = \"species\", fit_reg = False, legend=False)\n",
        "\n",
        "#Acomodamos las leyendas/codigo de colores con este metodo                                      (mas info aqui: https://matplotlib.org/stable/tutorials/intermediate/legend_guide.html)\n",
        "plt.legend(loc = \"lower right\")"
      ]
    },
    {
      "cell_type": "markdown",
      "metadata": {
        "id": "Tn6bGU8_PwfL"
      },
      "source": [
        "#### Utilizando escalas para mejorar la visualización"
      ]
    },
    {
      "cell_type": "code",
      "execution_count": 23,
      "metadata": {},
      "outputs": [
        {
          "data": {
            "text/plain": [
              "<seaborn.axisgrid.FacetGrid at 0x151cf3be670>"
            ]
          },
          "execution_count": 23,
          "metadata": {},
          "output_type": "execute_result"
        },
        {
          "data": {
            "image/png": "[encoded data removed]",
            "text/plain": [
              "<Figure size 444.75x360 with 1 Axes>"
            ]
          },
          "metadata": {
            "needs_background": "light"
          },
          "output_type": "display_data"
        }
      ],
      "source": [
        "sns.lmplot(x = \"sepal_length\", y = \"sepal_width\", data = iris, hue = \"species\", fit_reg = False,\n",
        "           palette=dict(setosa=\"purple\", versicolor=\"red\", virginica=\"blue\"))"
      ]
    },
    {
      "cell_type": "markdown",
      "metadata": {
        "id": "NHsy2LvzPwfM"
      },
      "source": [
        "Ahora veamos un caso particular. Vamos a hacer uso de los datos de Gapminder, estos contienen información sobre el nivel de ingreso per cápita por país, así como una columna de la esperanza de vida de cada uno de ellos. Todo esto bajo una línea de tiempo en años.\n",
        "\n",
        "El objetivo es visualizar si existe una correlación entre el nivel de ingresos y la esperanza de vida."
      ]
    },
    {
      "cell_type": "code",
      "execution_count": 31,
      "metadata": {
        "id": "JO_bWmgWPwfM"
      },
      "outputs": [
        {
          "data": {
            "image/png": "[encoded data removed]",
            "text/plain": [
              "<Figure size 432x288 with 1 Axes>"
            ]
          },
          "metadata": {
            "needs_background": "light"
          },
          "output_type": "display_data"
        }
      ],
      "source": [
        "# Scatter plot básico. \n",
        "\n",
        "sns.regplot(x='gdp_cap', y='life_exp', data=gdp, fit_reg=False)\n",
        "plt.xscale('log')                                                                                            #(mas info aqui https://matplotlib.org/stable/api/_as_gen/matplotlib.pyplot.xscale.html) ej \"linear\", \"log\", \"symlog\", \"logit\"\n",
        "                                                                                            #Una escala logarítmica muestra el valor base de 10 elevado a la potencia de un valor. 10 a la 1, 10 a la 2, 10 a la 3\n",
        "# Definimos en variable los nombres de los ejes y título\n",
        "xlabel = 'GDP per Capita [in USD]'\n",
        "ylabel = 'Life Expectancy [in years]'\n",
        "title = 'World Development in 2007'\n",
        "\n",
        "# Agregamos las etiquetas a los ejes\n",
        "plt.title(title)\n",
        "plt.xlabel(xlabel)\n",
        "plt.ylabel(ylabel)\n",
        "plt.show()\n",
        "                                                                                                                      #en los notebook se hace el llamado por default/ podriamos no incluirla"
      ]
    },
    {
      "cell_type": "markdown",
      "metadata": {
        "id": "pNRgbeCnPwfO"
      },
      "source": [
        "Como te habrás dado cuenta, añadimos título y nombres a los ejes. Estos métodos funcionan con todas las gráficas de pyplot y seaborn"
      ]
    },
    {
      "cell_type": "markdown",
      "metadata": {
        "id": "I-00Cw8fvF0J"
      },
      "source": [
        "## 1.1 Gráfica de burbuja\n",
        "\n",
        "Es como la gráfica de dispersión pero con una dimensión extra: cada punto en la gráfica puede tener un valor que afecta el tamaño del punto, haciendo que el conjunto de, ahora círculos de distinto tamaño, parezca un conjunto de burbujas."
      ]
    },
    {
      "cell_type": "code",
      "execution_count": 122,
      "metadata": {
        "colab": {
          "base_uri": "https://localhost:8080/",
          "height": 754
        },
        "id": "FBdq9DRI4tr_",
        "outputId": "3829fe12-7b0e-4d4b-a987-79d3dfd64c37"
      },
      "outputs": [
        {
          "name": "stderr",
          "output_type": "stream",
          "text": [
            "c:\\Users\\Andrea Gomez\\miniconda3\\envs\\BigData\\lib\\site-packages\\plotly\\offline\\offline.py:157: UserWarning:\n",
            "\n",
            "\n",
            "Unrecognized config options supplied: ['scrollzoom']\n",
            "\n"
          ]
        },
        {
          "data": {
            "application/vnd.plotly.v1+json": {
              "config": {
                "linkText": "Export to plot.ly",
                "plotlyServerURL": "https://plot.ly",
                "scrollzoom": true,
                "showLink": false
              },
              "data": [
                {
                  "marker": {
                    "size": [
                      31889923,
                      708573,
                      150448339,
                      14131858,
                      1318683096,
                      6980412,
                      1110396331,
                      223547000,
                      69453570,
                      27499638,
                      6426679,
                      127467972,
                      6053193,
                      23301725,
                      49044790,
                      2505559,
                      3921278,
                      24821286,
                      2874127,
                      47761980,
                      28901790,
                      3204897,
                      169270617,
                      91077287,
                      27601038,
                      4553009,
                      20378239,
                      19314747,
                      23174294,
                      65068149,
                      85262356,
                      4018332,
                      22211743
                    ],
                    "sizemode": "area",
                    "sizeref": 137362.8225
                  },
                  "mode": "markers",
                  "name": "Asia",
                  "text": [
                    "Afghanistan",
                    "Bahrain",
                    "Bangladesh",
                    "Cambodia",
                    "China",
                    "Hong Kong, China",
                    "India",
                    "Indonesia",
                    "Iran",
                    "Iraq",
                    "Israel",
                    "Japan",
                    "Jordan",
                    "Korea, Dem. Rep.",
                    "Korea, Rep.",
                    "Kuwait",
                    "Lebanon",
                    "Malaysia",
                    "Mongolia",
                    "Myanmar",
                    "Nepal",
                    "Oman",
                    "Pakistan",
                    "Philippines",
                    "Saudi Arabia",
                    "Singapore",
                    "Sri Lanka",
                    "Syria",
                    "Taiwan",
                    "Thailand",
                    "Vietnam",
                    "West Bank and Gaza",
                    "Yemen, Rep."
                  ],
                  "type": "scatter",
                  "x": [
                    974.5803384,
                    29796.04834,
                    1391.253792,
                    1713.778686,
                    4959.114854,
                    39724.97867,
                    2452.210407,
                    3540.651564,
                    11605.71449,
                    4471.061906,
                    25523.2771,
                    31656.06806,
                    4519.461171,
                    1593.06548,
                    23348.13973,
                    47306.98978,
                    10461.05868,
                    12451.6558,
                    3095.772271,
                    944,
                    1091.359778,
                    22316.19287,
                    2605.94758,
                    3190.481016,
                    21654.83194,
                    47143.17964,
                    3970.095407,
                    4184.548089,
                    28718.27684,
                    7458.396327,
                    2441.576404,
                    3025.349798,
                    2280.769906
                  ],
                  "y": [
                    43.828,
                    75.635,
                    64.062,
                    59.723,
                    72.961,
                    82.208,
                    64.698,
                    70.65,
                    70.964,
                    59.545,
                    80.745,
                    82.603,
                    72.535,
                    67.297,
                    78.623,
                    77.588,
                    71.993,
                    74.241,
                    66.803,
                    62.069,
                    63.785,
                    75.64,
                    65.483,
                    71.688,
                    72.777,
                    79.972,
                    72.396,
                    74.143,
                    78.4,
                    70.616,
                    74.249,
                    73.422,
                    62.698
                  ]
                },
                {
                  "marker": {
                    "size": [
                      3600523,
                      8199783,
                      10392226,
                      4552198,
                      7322858,
                      4493312,
                      10228744,
                      5468120,
                      5238460,
                      61083916,
                      82400996,
                      10706290,
                      9956108,
                      301931,
                      4109086,
                      58147733,
                      684736,
                      16570613,
                      4627926,
                      38518241,
                      10642836,
                      22276056,
                      10150265,
                      5447502,
                      2009245,
                      40448191,
                      9031088,
                      7554661,
                      71158647,
                      60776238
                    ],
                    "sizemode": "area",
                    "sizeref": 137362.8225
                  },
                  "mode": "markers",
                  "name": "Europe",
                  "text": [
                    "Albania",
                    "Austria",
                    "Belgium",
                    "Bosnia and Herzegovina",
                    "Bulgaria",
                    "Croatia",
                    "Czech Republic",
                    "Denmark",
                    "Finland",
                    "France",
                    "Germany",
                    "Greece",
                    "Hungary",
                    "Iceland",
                    "Ireland",
                    "Italy",
                    "Montenegro",
                    "Netherlands",
                    "Norway",
                    "Poland",
                    "Portugal",
                    "Romania",
                    "Serbia",
                    "Slovak Republic",
                    "Slovenia",
                    "Spain",
                    "Sweden",
                    "Switzerland",
                    "Turkey",
                    "United Kingdom"
                  ],
                  "type": "scatter",
                  "x": [
                    5937.029526,
                    36126.4927,
                    33692.60508,
                    7446.298803,
                    10680.79282,
                    14619.22272,
                    22833.30851,
                    35278.41874,
                    33207.0844,
                    30470.0167,
                    32170.37442,
                    27538.41188,
                    18008.94444,
                    36180.78919,
                    40675.99635,
                    28569.7197,
                    9253.896111,
                    36797.93332,
                    49357.19017,
                    15389.92468,
                    20509.64777,
                    10808.47561,
                    9786.534714,
                    18678.31435,
                    25768.25759,
                    28821.0637,
                    33859.74835,
                    37506.41907,
                    8458.276384,
                    33203.26128
                  ],
                  "y": [
                    76.423,
                    79.829,
                    79.441,
                    74.852,
                    73.005,
                    75.748,
                    76.486,
                    78.332,
                    79.313,
                    80.657,
                    79.406,
                    79.483,
                    73.338,
                    81.757,
                    78.885,
                    80.546,
                    74.543,
                    79.762,
                    80.196,
                    75.563,
                    78.098,
                    72.476,
                    74.002,
                    74.663,
                    77.926,
                    80.941,
                    80.884,
                    81.701,
                    71.777,
                    79.425
                  ]
                },
                {
                  "marker": {
                    "size": [
                      33333216,
                      12420476,
                      8078314,
                      1639131,
                      14326203,
                      8390505,
                      17696293,
                      4369038,
                      10238807,
                      710960,
                      64606759,
                      3800610,
                      18013409,
                      496374,
                      80264543,
                      551201,
                      4906585,
                      76511887,
                      1454867,
                      1688359,
                      22873338,
                      9947814,
                      1472041,
                      35610177,
                      2012649,
                      3193942,
                      6036914,
                      19167654,
                      13327079,
                      12031795,
                      3270065,
                      1250882,
                      33757175,
                      19951656,
                      2055080,
                      12894865,
                      135031164,
                      798094,
                      8860588,
                      199579,
                      12267493,
                      6144562,
                      9118773,
                      43997828,
                      42292929,
                      1133066,
                      38139640,
                      5701579,
                      10276158,
                      29170398,
                      11746035,
                      12311143
                    ],
                    "sizemode": "area",
                    "sizeref": 137362.8225
                  },
                  "mode": "markers",
                  "name": "Africa",
                  "text": [
                    "Algeria",
                    "Angola",
                    "Benin",
                    "Botswana",
                    "Burkina Faso",
                    "Burundi",
                    "Cameroon",
                    "Central African Republic",
                    "Chad",
                    "Comoros",
                    "Congo, Dem. Rep.",
                    "Congo, Rep.",
                    "Cote d'Ivoire",
                    "Djibouti",
                    "Egypt",
                    "Equatorial Guinea",
                    "Eritrea",
                    "Ethiopia",
                    "Gabon",
                    "Gambia",
                    "Ghana",
                    "Guinea",
                    "Guinea-Bissau",
                    "Kenya",
                    "Lesotho",
                    "Liberia",
                    "Libya",
                    "Madagascar",
                    "Malawi",
                    "Mali",
                    "Mauritania",
                    "Mauritius",
                    "Morocco",
                    "Mozambique",
                    "Namibia",
                    "Niger",
                    "Nigeria",
                    "Reunion",
                    "Rwanda",
                    "Sao Tome and Principe",
                    "Senegal",
                    "Sierra Leone",
                    "Somalia",
                    "South Africa",
                    "Sudan",
                    "Swaziland",
                    "Tanzania",
                    "Togo",
                    "Tunisia",
                    "Uganda",
                    "Zambia",
                    "Zimbabwe"
                  ],
                  "type": "scatter",
                  "x": [
                    6223.367465,
                    4797.231267,
                    1441.284873,
                    12569.85177,
                    1217.032994,
                    430.0706916,
                    2042.09524,
                    706.016537,
                    1704.063724,
                    986.1478792,
                    277.5518587,
                    3632.557798,
                    1544.750112,
                    2082.481567,
                    5581.180998,
                    12154.08975,
                    641.3695236,
                    690.8055759,
                    13206.48452,
                    752.7497265,
                    1327.60891,
                    942.6542111,
                    579.231743,
                    1463.249282,
                    1569.331442,
                    414.5073415,
                    12057.49928,
                    1044.770126,
                    759.3499101,
                    1042.581557,
                    1803.151496,
                    10956.99112,
                    3820.17523,
                    823.6856205,
                    4811.060429,
                    619.6768924,
                    2013.977305,
                    7670.122558,
                    863.0884639,
                    1598.435089,
                    1712.472136,
                    862.5407561,
                    926.1410683,
                    9269.657808,
                    2602.394995,
                    4513.480643,
                    1107.482182,
                    882.9699438,
                    7092.923025,
                    1056.380121,
                    1271.211593,
                    469.7092981
                  ],
                  "y": [
                    72.301,
                    42.731,
                    56.728,
                    50.728,
                    52.295,
                    49.58,
                    50.43,
                    44.741,
                    50.651,
                    65.152,
                    46.462,
                    55.322,
                    48.328,
                    54.791,
                    71.338,
                    51.579,
                    58.04,
                    52.947,
                    56.735,
                    59.448,
                    60.022,
                    56.007,
                    46.388,
                    54.11,
                    42.592,
                    45.678,
                    73.952,
                    59.443,
                    48.303,
                    54.467,
                    64.164,
                    72.801,
                    71.164,
                    42.082,
                    52.906,
                    56.867,
                    46.859,
                    76.442,
                    46.242,
                    65.528,
                    63.062,
                    42.568,
                    48.159,
                    49.339,
                    58.556,
                    39.613,
                    52.517,
                    58.42,
                    73.923,
                    51.542,
                    42.384,
                    43.487
                  ]
                },
                {
                  "marker": {
                    "size": [
                      40301927,
                      9119152,
                      190010647,
                      33390141,
                      16284741,
                      44227550,
                      4133884,
                      11416987,
                      9319622,
                      13755680,
                      6939688,
                      12572928,
                      8502814,
                      7483763,
                      2780132,
                      108700891,
                      5675356,
                      3242173,
                      6667147,
                      28674757,
                      3942491,
                      1056608,
                      301139947,
                      3447496,
                      26084662
                    ],
                    "sizemode": "area",
                    "sizeref": 137362.8225
                  },
                  "mode": "markers",
                  "name": "Americas",
                  "text": [
                    "Argentina",
                    "Bolivia",
                    "Brazil",
                    "Canada",
                    "Chile",
                    "Colombia",
                    "Costa Rica",
                    "Cuba",
                    "Dominican Republic",
                    "Ecuador",
                    "El Salvador",
                    "Guatemala",
                    "Haiti",
                    "Honduras",
                    "Jamaica",
                    "Mexico",
                    "Nicaragua",
                    "Panama",
                    "Paraguay",
                    "Peru",
                    "Puerto Rico",
                    "Trinidad and Tobago",
                    "United States",
                    "Uruguay",
                    "Venezuela"
                  ],
                  "type": "scatter",
                  "x": [
                    12779.37964,
                    3822.137084,
                    9065.800825,
                    36319.23501,
                    13171.63885,
                    7006.580419,
                    9645.06142,
                    8948.102923,
                    6025.374752,
                    6873.262326,
                    5728.353514,
                    5186.050003,
                    1201.637154,
                    3548.330846,
                    7320.880262,
                    11977.57496,
                    2749.320965,
                    9809.185636,
                    4172.838464,
                    7408.905561,
                    19328.70901,
                    18008.50924,
                    42951.65309,
                    10611.46299,
                    11415.80569
                  ],
                  "y": [
                    75.32,
                    65.554,
                    72.39,
                    80.653,
                    78.553,
                    72.889,
                    78.782,
                    78.273,
                    72.235,
                    74.994,
                    71.878,
                    70.259,
                    60.916,
                    70.198,
                    72.567,
                    76.195,
                    72.899,
                    75.537,
                    71.752,
                    71.421,
                    78.746,
                    69.819,
                    78.242,
                    76.384,
                    73.747
                  ]
                },
                {
                  "marker": {
                    "size": [
                      20434176,
                      4115771
                    ],
                    "sizemode": "area",
                    "sizeref": 137362.8225
                  },
                  "mode": "markers",
                  "name": "Oceania",
                  "text": [
                    "Australia",
                    "New Zealand"
                  ],
                  "type": "scatter",
                  "x": [
                    34435.36744,
                    25185.00911
                  ],
                  "y": [
                    81.235,
                    80.204
                  ]
                }
              ],
              "frames": [
                {
                  "data": [
                    {
                      "marker": {
                        "size": [
                          31889923,
                          708573,
                          150448339,
                          14131858,
                          1318683096,
                          6980412,
                          1110396331,
                          223547000,
                          69453570,
                          27499638,
                          6426679,
                          127467972,
                          6053193,
                          23301725,
                          49044790,
                          2505559,
                          3921278,
                          24821286,
                          2874127,
                          47761980,
                          28901790,
                          3204897,
                          169270617,
                          91077287,
                          27601038,
                          4553009,
                          20378239,
                          19314747,
                          23174294,
                          65068149,
                          85262356,
                          4018332,
                          22211743
                        ],
                        "sizemode": "area",
                        "sizeref": 137362.8225
                      },
                      "mode": "markers",
                      "name": "Asia",
                      "text": [
                        "Afghanistan",
                        "Bahrain",
                        "Bangladesh",
                        "Cambodia",
                        "China",
                        "Hong Kong, China",
                        "India",
                        "Indonesia",
                        "Iran",
                        "Iraq",
                        "Israel",
                        "Japan",
                        "Jordan",
                        "Korea, Dem. Rep.",
                        "Korea, Rep.",
                        "Kuwait",
                        "Lebanon",
                        "Malaysia",
                        "Mongolia",
                        "Myanmar",
                        "Nepal",
                        "Oman",
                        "Pakistan",
                        "Philippines",
                        "Saudi Arabia",
                        "Singapore",
                        "Sri Lanka",
                        "Syria",
                        "Taiwan",
                        "Thailand",
                        "Vietnam",
                        "West Bank and Gaza",
                        "Yemen, Rep."
                      ],
                      "type": "scatter",
                      "x": [
                        974.5803384,
                        29796.04834,
                        1391.253792,
                        1713.778686,
                        4959.114854,
                        39724.97867,
                        2452.210407,
                        3540.651564,
                        11605.71449,
                        4471.061906,
                        25523.2771,
                        31656.06806,
                        4519.461171,
                        1593.06548,
                        23348.13973,
                        47306.98978,
                        10461.05868,
                        12451.6558,
                        3095.772271,
                        944,
                        1091.359778,
                        22316.19287,
                        2605.94758,
                        3190.481016,
                        21654.83194,
                        47143.17964,
                        3970.095407,
                        4184.548089,
                        28718.27684,
                        7458.396327,
                        2441.576404,
                        3025.349798,
                        2280.769906
                      ],
                      "y": [
                        43.828,
                        75.635,
                        64.062,
                        59.723,
                        72.961,
                        82.208,
                        64.698,
                        70.65,
                        70.964,
                        59.545,
                        80.745,
                        82.603,
                        72.535,
                        67.297,
                        78.623,
                        77.588,
                        71.993,
                        74.241,
                        66.803,
                        62.069,
                        63.785,
                        75.64,
                        65.483,
                        71.688,
                        72.777,
                        79.972,
                        72.396,
                        74.143,
                        78.4,
                        70.616,
                        74.249,
                        73.422,
                        62.698
                      ]
                    },
                    {
                      "marker": {
                        "size": [
                          3600523,
                          8199783,
                          10392226,
                          4552198,
                          7322858,
                          4493312,
                          10228744,
                          5468120,
                          5238460,
                          61083916,
                          82400996,
                          10706290,
                          9956108,
                          301931,
                          4109086,
                          58147733,
                          684736,
                          16570613,
                          4627926,
                          38518241,
                          10642836,
                          22276056,
                          10150265,
                          5447502,
                          2009245,
                          40448191,
                          9031088,
                          7554661,
                          71158647,
                          60776238
                        ],
                        "sizemode": "area",
                        "sizeref": 137362.8225
                      },
                      "mode": "markers",
                      "name": "Europe",
                      "text": [
                        "Albania",
                        "Austria",
                        "Belgium",
                        "Bosnia and Herzegovina",
                        "Bulgaria",
                        "Croatia",
                        "Czech Republic",
                        "Denmark",
                        "Finland",
                        "France",
                        "Germany",
                        "Greece",
                        "Hungary",
                        "Iceland",
                        "Ireland",
                        "Italy",
                        "Montenegro",
                        "Netherlands",
                        "Norway",
                        "Poland",
                        "Portugal",
                        "Romania",
                        "Serbia",
                        "Slovak Republic",
                        "Slovenia",
                        "Spain",
                        "Sweden",
                        "Switzerland",
                        "Turkey",
                        "United Kingdom"
                      ],
                      "type": "scatter",
                      "x": [
                        5937.029526,
                        36126.4927,
                        33692.60508,
                        7446.298803,
                        10680.79282,
                        14619.22272,
                        22833.30851,
                        35278.41874,
                        33207.0844,
                        30470.0167,
                        32170.37442,
                        27538.41188,
                        18008.94444,
                        36180.78919,
                        40675.99635,
                        28569.7197,
                        9253.896111,
                        36797.93332,
                        49357.19017,
                        15389.92468,
                        20509.64777,
                        10808.47561,
                        9786.534714,
                        18678.31435,
                        25768.25759,
                        28821.0637,
                        33859.74835,
                        37506.41907,
                        8458.276384,
                        33203.26128
                      ],
                      "y": [
                        76.423,
                        79.829,
                        79.441,
                        74.852,
                        73.005,
                        75.748,
                        76.486,
                        78.332,
                        79.313,
                        80.657,
                        79.406,
                        79.483,
                        73.338,
                        81.757,
                        78.885,
                        80.546,
                        74.543,
                        79.762,
                        80.196,
                        75.563,
                        78.098,
                        72.476,
                        74.002,
                        74.663,
                        77.926,
                        80.941,
                        80.884,
                        81.701,
                        71.777,
                        79.425
                      ]
                    },
                    {
                      "marker": {
                        "size": [
                          33333216,
                          12420476,
                          8078314,
                          1639131,
                          14326203,
                          8390505,
                          17696293,
                          4369038,
                          10238807,
                          710960,
                          64606759,
                          3800610,
                          18013409,
                          496374,
                          80264543,
                          551201,
                          4906585,
                          76511887,
                          1454867,
                          1688359,
                          22873338,
                          9947814,
                          1472041,
                          35610177,
                          2012649,
                          3193942,
                          6036914,
                          19167654,
                          13327079,
                          12031795,
                          3270065,
                          1250882,
                          33757175,
                          19951656,
                          2055080,
                          12894865,
                          135031164,
                          798094,
                          8860588,
                          199579,
                          12267493,
                          6144562,
                          9118773,
                          43997828,
                          42292929,
                          1133066,
                          38139640,
                          5701579,
                          10276158,
                          29170398,
                          11746035,
                          12311143
                        ],
                        "sizemode": "area",
                        "sizeref": 137362.8225
                      },
                      "mode": "markers",
                      "name": "Africa",
                      "text": [
                        "Algeria",
                        "Angola",
                        "Benin",
                        "Botswana",
                        "Burkina Faso",
                        "Burundi",
                        "Cameroon",
                        "Central African Republic",
                        "Chad",
                        "Comoros",
                        "Congo, Dem. Rep.",
                        "Congo, Rep.",
                        "Cote d'Ivoire",
                        "Djibouti",
                        "Egypt",
                        "Equatorial Guinea",
                        "Eritrea",
                        "Ethiopia",
                        "Gabon",
                        "Gambia",
                        "Ghana",
                        "Guinea",
                        "Guinea-Bissau",
                        "Kenya",
                        "Lesotho",
                        "Liberia",
                        "Libya",
                        "Madagascar",
                        "Malawi",
                        "Mali",
                        "Mauritania",
                        "Mauritius",
                        "Morocco",
                        "Mozambique",
                        "Namibia",
                        "Niger",
                        "Nigeria",
                        "Reunion",
                        "Rwanda",
                        "Sao Tome and Principe",
                        "Senegal",
                        "Sierra Leone",
                        "Somalia",
                        "South Africa",
                        "Sudan",
                        "Swaziland",
                        "Tanzania",
                        "Togo",
                        "Tunisia",
                        "Uganda",
                        "Zambia",
                        "Zimbabwe"
                      ],
                      "type": "scatter",
                      "x": [
                        6223.367465,
                        4797.231267,
                        1441.284873,
                        12569.85177,
                        1217.032994,
                        430.0706916,
                        2042.09524,
                        706.016537,
                        1704.063724,
                        986.1478792,
                        277.5518587,
                        3632.557798,
                        1544.750112,
                        2082.481567,
                        5581.180998,
                        12154.08975,
                        641.3695236,
                        690.8055759,
                        13206.48452,
                        752.7497265,
                        1327.60891,
                        942.6542111,
                        579.231743,
                        1463.249282,
                        1569.331442,
                        414.5073415,
                        12057.49928,
                        1044.770126,
                        759.3499101,
                        1042.581557,
                        1803.151496,
                        10956.99112,
                        3820.17523,
                        823.6856205,
                        4811.060429,
                        619.6768924,
                        2013.977305,
                        7670.122558,
                        863.0884639,
                        1598.435089,
                        1712.472136,
                        862.5407561,
                        926.1410683,
                        9269.657808,
                        2602.394995,
                        4513.480643,
                        1107.482182,
                        882.9699438,
                        7092.923025,
                        1056.380121,
                        1271.211593,
                        469.7092981
                      ],
                      "y": [
                        72.301,
                        42.731,
                        56.728,
                        50.728,
                        52.295,
                        49.58,
                        50.43,
                        44.741,
                        50.651,
                        65.152,
                        46.462,
                        55.322,
                        48.328,
                        54.791,
                        71.338,
                        51.579,
                        58.04,
                        52.947,
                        56.735,
                        59.448,
                        60.022,
                        56.007,
                        46.388,
                        54.11,
                        42.592,
                        45.678,
                        73.952,
                        59.443,
                        48.303,
                        54.467,
                        64.164,
                        72.801,
                        71.164,
                        42.082,
                        52.906,
                        56.867,
                        46.859,
                        76.442,
                        46.242,
                        65.528,
                        63.062,
                        42.568,
                        48.159,
                        49.339,
                        58.556,
                        39.613,
                        52.517,
                        58.42,
                        73.923,
                        51.542,
                        42.384,
                        43.487
                      ]
                    },
                    {
                      "marker": {
                        "size": [
                          40301927,
                          9119152,
                          190010647,
                          33390141,
                          16284741,
                          44227550,
                          4133884,
                          11416987,
                          9319622,
                          13755680,
                          6939688,
                          12572928,
                          8502814,
                          7483763,
                          2780132,
                          108700891,
                          5675356,
                          3242173,
                          6667147,
                          28674757,
                          3942491,
                          1056608,
                          301139947,
                          3447496,
                          26084662
                        ],
                        "sizemode": "area",
                        "sizeref": 137362.8225
                      },
                      "mode": "markers",
                      "name": "Americas",
                      "text": [
                        "Argentina",
                        "Bolivia",
                        "Brazil",
                        "Canada",
                        "Chile",
                        "Colombia",
                        "Costa Rica",
                        "Cuba",
                        "Dominican Republic",
                        "Ecuador",
                        "El Salvador",
                        "Guatemala",
                        "Haiti",
                        "Honduras",
                        "Jamaica",
                        "Mexico",
                        "Nicaragua",
                        "Panama",
                        "Paraguay",
                        "Peru",
                        "Puerto Rico",
                        "Trinidad and Tobago",
                        "United States",
                        "Uruguay",
                        "Venezuela"
                      ],
                      "type": "scatter",
                      "x": [
                        12779.37964,
                        3822.137084,
                        9065.800825,
                        36319.23501,
                        13171.63885,
                        7006.580419,
                        9645.06142,
                        8948.102923,
                        6025.374752,
                        6873.262326,
                        5728.353514,
                        5186.050003,
                        1201.637154,
                        3548.330846,
                        7320.880262,
                        11977.57496,
                        2749.320965,
                        9809.185636,
                        4172.838464,
                        7408.905561,
                        19328.70901,
                        18008.50924,
                        42951.65309,
                        10611.46299,
                        11415.80569
                      ],
                      "y": [
                        75.32,
                        65.554,
                        72.39,
                        80.653,
                        78.553,
                        72.889,
                        78.782,
                        78.273,
                        72.235,
                        74.994,
                        71.878,
                        70.259,
                        60.916,
                        70.198,
                        72.567,
                        76.195,
                        72.899,
                        75.537,
                        71.752,
                        71.421,
                        78.746,
                        69.819,
                        78.242,
                        76.384,
                        73.747
                      ]
                    },
                    {
                      "marker": {
                        "size": [
                          20434176,
                          4115771
                        ],
                        "sizemode": "area",
                        "sizeref": 137362.8225
                      },
                      "mode": "markers",
                      "name": "Oceania",
                      "text": [
                        "Australia",
                        "New Zealand"
                      ],
                      "type": "scatter",
                      "x": [
                        34435.36744,
                        25185.00911
                      ],
                      "y": [
                        81.235,
                        80.204
                      ]
                    }
                  ],
                  "name": "2007"
                }
              ],
              "layout": {
                "height": 650,
                "hovermode": "closest",
                "margin": {
                  "b": 50,
                  "pad": 5,
                  "t": 50
                },
                "showlegend": true,
                "sliders": [
                  {
                    "active": 0,
                    "currentvalue": {
                      "font": {
                        "size": 20
                      },
                      "prefix": "Year:",
                      "visible": true,
                      "xanchor": "right"
                    },
                    "len": 0.9,
                    "pad": {
                      "b": 10,
                      "t": 50
                    },
                    "steps": [
                      {
                        "args": [
                          [
                            2007
                          ],
                          {
                            "frame": {
                              "duration": 300,
                              "redraw": false
                            },
                            "mode": "immediate",
                            "transition": {
                              "duration": 300
                            }
                          }
                        ],
                        "label": "2007",
                        "method": "animate"
                      }
                    ],
                    "transition": {
                      "duration": 300,
                      "easing": "cubic-in-out"
                    },
                    "x": 0.1,
                    "xanchor": "left",
                    "y": 0,
                    "yanchor": "top"
                  }
                ],
                "template": {
                  "data": {
                    "bar": [
                      {
                        "error_x": {
                          "color": "#2a3f5f"
                        },
                        "error_y": {
                          "color": "#2a3f5f"
                        },
                        "marker": {
                          "line": {
                            "color": "#E5ECF6",
                            "width": 0.5
                          },
                          "pattern": {
                            "fillmode": "overlay",
                            "size": 10,
                            "solidity": 0.2
                          }
                        },
                        "type": "bar"
                      }
                    ],
                    "barpolar": [
                      {
                        "marker": {
                          "line": {
                            "color": "#E5ECF6",
                            "width": 0.5
                          },
                          "pattern": {
                            "fillmode": "overlay",
                            "size": 10,
                            "solidity": 0.2
                          }
                        },
                        "type": "barpolar"
                      }
                    ],
                    "carpet": [
                      {
                        "aaxis": {
                          "endlinecolor": "#2a3f5f",
                          "gridcolor": "white",
                          "linecolor": "white",
                          "minorgridcolor": "white",
                          "startlinecolor": "#2a3f5f"
                        },
                        "baxis": {
                          "endlinecolor": "#2a3f5f",
                          "gridcolor": "white",
                          "linecolor": "white",
                          "minorgridcolor": "white",
                          "startlinecolor": "#2a3f5f"
                        },
                        "type": "carpet"
                      }
                    ],
                    "choropleth": [
                      {
                        "colorbar": {
                          "outlinewidth": 0,
                          "ticks": ""
                        },
                        "type": "choropleth"
                      }
                    ],
                    "contour": [
                      {
                        "colorbar": {
                          "outlinewidth": 0,
                          "ticks": ""
                        },
                        "colorscale": [
                          [
                            0,
                            "#0d0887"
                          ],
                          [
                            0.1111111111111111,
                            "#46039f"
                          ],
                          [
                            0.2222222222222222,
                            "#7201a8"
                          ],
                          [
                            0.3333333333333333,
                            "#9c179e"
                          ],
                          [
                            0.4444444444444444,
                            "#bd3786"
                          ],
                          [
                            0.5555555555555556,
                            "#d8576b"
                          ],
                          [
                            0.6666666666666666,
                            "#ed7953"
                          ],
                          [
                            0.7777777777777778,
                            "#fb9f3a"
                          ],
                          [
                            0.8888888888888888,
                            "#fdca26"
                          ],
                          [
                            1,
                            "#f0f921"
                          ]
                        ],
                        "type": "contour"
                      }
                    ],
                    "contourcarpet": [
                      {
                        "colorbar": {
                          "outlinewidth": 0,
                          "ticks": ""
                        },
                        "type": "contourcarpet"
                      }
                    ],
                    "heatmap": [
                      {
                        "colorbar": {
                          "outlinewidth": 0,
                          "ticks": ""
                        },
                        "colorscale": [
                          [
                            0,
                            "#0d0887"
                          ],
                          [
                            0.1111111111111111,
                            "#46039f"
                          ],
                          [
                            0.2222222222222222,
                            "#7201a8"
                          ],
                          [
                            0.3333333333333333,
                            "#9c179e"
                          ],
                          [
                            0.4444444444444444,
                            "#bd3786"
                          ],
                          [
                            0.5555555555555556,
                            "#d8576b"
                          ],
                          [
                            0.6666666666666666,
                            "#ed7953"
                          ],
                          [
                            0.7777777777777778,
                            "#fb9f3a"
                          ],
                          [
                            0.8888888888888888,
                            "#fdca26"
                          ],
                          [
                            1,
                            "#f0f921"
                          ]
                        ],
                        "type": "heatmap"
                      }
                    ],
                    "heatmapgl": [
                      {
                        "colorbar": {
                          "outlinewidth": 0,
                          "ticks": ""
                        },
                        "colorscale": [
                          [
                            0,
                            "#0d0887"
                          ],
                          [
                            0.1111111111111111,
                            "#46039f"
                          ],
                          [
                            0.2222222222222222,
                            "#7201a8"
                          ],
                          [
                            0.3333333333333333,
                            "#9c179e"
                          ],
                          [
                            0.4444444444444444,
                            "#bd3786"
                          ],
                          [
                            0.5555555555555556,
                            "#d8576b"
                          ],
                          [
                            0.6666666666666666,
                            "#ed7953"
                          ],
                          [
                            0.7777777777777778,
                            "#fb9f3a"
                          ],
                          [
                            0.8888888888888888,
                            "#fdca26"
                          ],
                          [
                            1,
                            "#f0f921"
                          ]
                        ],
                        "type": "heatmapgl"
                      }
                    ],
                    "histogram": [
                      {
                        "marker": {
                          "pattern": {
                            "fillmode": "overlay",
                            "size": 10,
                            "solidity": 0.2
                          }
                        },
                        "type": "histogram"
                      }
                    ],
                    "histogram2d": [
                      {
                        "colorbar": {
                          "outlinewidth": 0,
                          "ticks": ""
                        },
                        "colorscale": [
                          [
                            0,
                            "#0d0887"
                          ],
                          [
                            0.1111111111111111,
                            "#46039f"
                          ],
                          [
                            0.2222222222222222,
                            "#7201a8"
                          ],
                          [
                            0.3333333333333333,
                            "#9c179e"
                          ],
                          [
                            0.4444444444444444,
                            "#bd3786"
                          ],
                          [
                            0.5555555555555556,
                            "#d8576b"
                          ],
                          [
                            0.6666666666666666,
                            "#ed7953"
                          ],
                          [
                            0.7777777777777778,
                            "#fb9f3a"
                          ],
                          [
                            0.8888888888888888,
                            "#fdca26"
                          ],
                          [
                            1,
                            "#f0f921"
                          ]
                        ],
                        "type": "histogram2d"
                      }
                    ],
                    "histogram2dcontour": [
                      {
                        "colorbar": {
                          "outlinewidth": 0,
                          "ticks": ""
                        },
                        "colorscale": [
                          [
                            0,
                            "#0d0887"
                          ],
                          [
                            0.1111111111111111,
                            "#46039f"
                          ],
                          [
                            0.2222222222222222,
                            "#7201a8"
                          ],
                          [
                            0.3333333333333333,
                            "#9c179e"
                          ],
                          [
                            0.4444444444444444,
                            "#bd3786"
                          ],
                          [
                            0.5555555555555556,
                            "#d8576b"
                          ],
                          [
                            0.6666666666666666,
                            "#ed7953"
                          ],
                          [
                            0.7777777777777778,
                            "#fb9f3a"
                          ],
                          [
                            0.8888888888888888,
                            "#fdca26"
                          ],
                          [
                            1,
                            "#f0f921"
                          ]
                        ],
                        "type": "histogram2dcontour"
                      }
                    ],
                    "mesh3d": [
                      {
                        "colorbar": {
                          "outlinewidth": 0,
                          "ticks": ""
                        },
                        "type": "mesh3d"
                      }
                    ],
                    "parcoords": [
                      {
                        "line": {
                          "colorbar": {
                            "outlinewidth": 0,
                            "ticks": ""
                          }
                        },
                        "type": "parcoords"
                      }
                    ],
                    "pie": [
                      {
                        "automargin": true,
                        "type": "pie"
                      }
                    ],
                    "scatter": [
                      {
                        "fillpattern": {
                          "fillmode": "overlay",
                          "size": 10,
                          "solidity": 0.2
                        },
                        "type": "scatter"
                      }
                    ],
                    "scatter3d": [
                      {
                        "line": {
                          "colorbar": {
                            "outlinewidth": 0,
                            "ticks": ""
                          }
                        },
                        "marker": {
                          "colorbar": {
                            "outlinewidth": 0,
                            "ticks": ""
                          }
                        },
                        "type": "scatter3d"
                      }
                    ],
                    "scattercarpet": [
                      {
                        "marker": {
                          "colorbar": {
                            "outlinewidth": 0,
                            "ticks": ""
                          }
                        },
                        "type": "scattercarpet"
                      }
                    ],
                    "scattergeo": [
                      {
                        "marker": {
                          "colorbar": {
                            "outlinewidth": 0,
                            "ticks": ""
                          }
                        },
                        "type": "scattergeo"
                      }
                    ],
                    "scattergl": [
                      {
                        "marker": {
                          "colorbar": {
                            "outlinewidth": 0,
                            "ticks": ""
                          }
                        },
                        "type": "scattergl"
                      }
                    ],
                    "scattermapbox": [
                      {
                        "marker": {
                          "colorbar": {
                            "outlinewidth": 0,
                            "ticks": ""
                          }
                        },
                        "type": "scattermapbox"
                      }
                    ],
                    "scatterpolar": [
                      {
                        "marker": {
                          "colorbar": {
                            "outlinewidth": 0,
                            "ticks": ""
                          }
                        },
                        "type": "scatterpolar"
                      }
                    ],
                    "scatterpolargl": [
                      {
                        "marker": {
                          "colorbar": {
                            "outlinewidth": 0,
                            "ticks": ""
                          }
                        },
                        "type": "scatterpolargl"
                      }
                    ],
                    "scatterternary": [
                      {
                        "marker": {
                          "colorbar": {
                            "outlinewidth": 0,
                            "ticks": ""
                          }
                        },
                        "type": "scatterternary"
                      }
                    ],
                    "surface": [
                      {
                        "colorbar": {
                          "outlinewidth": 0,
                          "ticks": ""
                        },
                        "colorscale": [
                          [
                            0,
                            "#0d0887"
                          ],
                          [
                            0.1111111111111111,
                            "#46039f"
                          ],
                          [
                            0.2222222222222222,
                            "#7201a8"
                          ],
                          [
                            0.3333333333333333,
                            "#9c179e"
                          ],
                          [
                            0.4444444444444444,
                            "#bd3786"
                          ],
                          [
                            0.5555555555555556,
                            "#d8576b"
                          ],
                          [
                            0.6666666666666666,
                            "#ed7953"
                          ],
                          [
                            0.7777777777777778,
                            "#fb9f3a"
                          ],
                          [
                            0.8888888888888888,
                            "#fdca26"
                          ],
                          [
                            1,
                            "#f0f921"
                          ]
                        ],
                        "type": "surface"
                      }
                    ],
                    "table": [
                      {
                        "cells": {
                          "fill": {
                            "color": "#EBF0F8"
                          },
                          "line": {
                            "color": "white"
                          }
                        },
                        "header": {
                          "fill": {
                            "color": "#C8D4E3"
                          },
                          "line": {
                            "color": "white"
                          }
                        },
                        "type": "table"
                      }
                    ]
                  },
                  "layout": {
                    "annotationdefaults": {
                      "arrowcolor": "#2a3f5f",
                      "arrowhead": 0,
                      "arrowwidth": 1
                    },
                    "autotypenumbers": "strict",
                    "coloraxis": {
                      "colorbar": {
                        "outlinewidth": 0,
                        "ticks": ""
                      }
                    },
                    "colorscale": {
                      "diverging": [
                        [
                          0,
                          "#8e0152"
                        ],
                        [
                          0.1,
                          "#c51b7d"
                        ],
                        [
                          0.2,
                          "#de77ae"
                        ],
                        [
                          0.3,
                          "#f1b6da"
                        ],
                        [
                          0.4,
                          "#fde0ef"
                        ],
                        [
                          0.5,
                          "#f7f7f7"
                        ],
                        [
                          0.6,
                          "#e6f5d0"
                        ],
                        [
                          0.7,
                          "#b8e186"
                        ],
                        [
                          0.8,
                          "#7fbc41"
                        ],
                        [
                          0.9,
                          "#4d9221"
                        ],
                        [
                          1,
                          "#276419"
                        ]
                      ],
                      "sequential": [
                        [
                          0,
                          "#0d0887"
                        ],
                        [
                          0.1111111111111111,
                          "#46039f"
                        ],
                        [
                          0.2222222222222222,
                          "#7201a8"
                        ],
                        [
                          0.3333333333333333,
                          "#9c179e"
                        ],
                        [
                          0.4444444444444444,
                          "#bd3786"
                        ],
                        [
                          0.5555555555555556,
                          "#d8576b"
                        ],
                        [
                          0.6666666666666666,
                          "#ed7953"
                        ],
                        [
                          0.7777777777777778,
                          "#fb9f3a"
                        ],
                        [
                          0.8888888888888888,
                          "#fdca26"
                        ],
                        [
                          1,
                          "#f0f921"
                        ]
                      ],
                      "sequentialminus": [
                        [
                          0,
                          "#0d0887"
                        ],
                        [
                          0.1111111111111111,
                          "#46039f"
                        ],
                        [
                          0.2222222222222222,
                          "#7201a8"
                        ],
                        [
                          0.3333333333333333,
                          "#9c179e"
                        ],
                        [
                          0.4444444444444444,
                          "#bd3786"
                        ],
                        [
                          0.5555555555555556,
                          "#d8576b"
                        ],
                        [
                          0.6666666666666666,
                          "#ed7953"
                        ],
                        [
                          0.7777777777777778,
                          "#fb9f3a"
                        ],
                        [
                          0.8888888888888888,
                          "#fdca26"
                        ],
                        [
                          1,
                          "#f0f921"
                        ]
                      ]
                    },
                    "colorway": [
                      "#636efa",
                      "#EF553B",
                      "#00cc96",
                      "#ab63fa",
                      "#FFA15A",
                      "#19d3f3",
                      "#FF6692",
                      "#B6E880",
                      "#FF97FF",
                      "#FECB52"
                    ],
                    "font": {
                      "color": "#2a3f5f"
                    },
                    "geo": {
                      "bgcolor": "white",
                      "lakecolor": "white",
                      "landcolor": "#E5ECF6",
                      "showlakes": true,
                      "showland": true,
                      "subunitcolor": "white"
                    },
                    "hoverlabel": {
                      "align": "left"
                    },
                    "hovermode": "closest",
                    "mapbox": {
                      "style": "light"
                    },
                    "paper_bgcolor": "white",
                    "plot_bgcolor": "#E5ECF6",
                    "polar": {
                      "angularaxis": {
                        "gridcolor": "white",
                        "linecolor": "white",
                        "ticks": ""
                      },
                      "bgcolor": "#E5ECF6",
                      "radialaxis": {
                        "gridcolor": "white",
                        "linecolor": "white",
                        "ticks": ""
                      }
                    },
                    "scene": {
                      "xaxis": {
                        "backgroundcolor": "#E5ECF6",
                        "gridcolor": "white",
                        "gridwidth": 2,
                        "linecolor": "white",
                        "showbackground": true,
                        "ticks": "",
                        "zerolinecolor": "white"
                      },
                      "yaxis": {
                        "backgroundcolor": "#E5ECF6",
                        "gridcolor": "white",
                        "gridwidth": 2,
                        "linecolor": "white",
                        "showbackground": true,
                        "ticks": "",
                        "zerolinecolor": "white"
                      },
                      "zaxis": {
                        "backgroundcolor": "#E5ECF6",
                        "gridcolor": "white",
                        "gridwidth": 2,
                        "linecolor": "white",
                        "showbackground": true,
                        "ticks": "",
                        "zerolinecolor": "white"
                      }
                    },
                    "shapedefaults": {
                      "line": {
                        "color": "#2a3f5f"
                      }
                    },
                    "ternary": {
                      "aaxis": {
                        "gridcolor": "white",
                        "linecolor": "white",
                        "ticks": ""
                      },
                      "baxis": {
                        "gridcolor": "white",
                        "linecolor": "white",
                        "ticks": ""
                      },
                      "bgcolor": "#E5ECF6",
                      "caxis": {
                        "gridcolor": "white",
                        "linecolor": "white",
                        "ticks": ""
                      }
                    },
                    "title": {
                      "x": 0.05
                    },
                    "xaxis": {
                      "automargin": true,
                      "gridcolor": "white",
                      "linecolor": "white",
                      "ticks": "",
                      "title": {
                        "standoff": 15
                      },
                      "zerolinecolor": "white",
                      "zerolinewidth": 2
                    },
                    "yaxis": {
                      "automargin": true,
                      "gridcolor": "white",
                      "linecolor": "white",
                      "ticks": "",
                      "title": {
                        "standoff": 15
                      },
                      "zerolinecolor": "white",
                      "zerolinewidth": 2
                    }
                  }
                },
                "title": {
                  "text": "Gapminder Global Indicators"
                },
                "updatemenus": [
                  {
                    "buttons": [
                      {
                        "args": [
                          null,
                          {
                            "frame": {
                              "duration": 500,
                              "redraw": false
                            },
                            "fromcurrent": true,
                            "transition": {
                              "duration": 300,
                              "easing": "quadratic-in-out"
                            }
                          }
                        ],
                        "label": "Play",
                        "method": "animate"
                      },
                      {
                        "args": [
                          [
                            null
                          ],
                          {
                            "frame": {
                              "duration": 0,
                              "redraw": false
                            },
                            "mode": "immediate",
                            "transition": {
                              "duration": 0
                            }
                          }
                        ],
                        "label": "Pause",
                        "method": "animate"
                      }
                    ],
                    "direction": "left",
                    "pad": {
                      "r": 10,
                      "t": 87
                    },
                    "showactive": false,
                    "type": "buttons",
                    "x": 0.1,
                    "xanchor": "right",
                    "y": 0,
                    "yanchor": "top"
                  }
                ],
                "xaxis": {
                  "autorange": false,
                  "range": [
                    2.370043815844981,
                    4.881084445122633
                  ],
                  "title": {
                    "text": "GDP per Capita"
                  },
                  "type": "log"
                },
                "yaxis": {
                  "autorange": false,
                  "range": [
                    27.7291,
                    115.64419999999998
                  ],
                  "title": {
                    "text": "Life Expectancy"
                  }
                }
              }
            }
          },
          "metadata": {},
          "output_type": "display_data"
        }
      ],
      "source": [
        "figure = bubbleplot(dataset=gdp, x_column='gdp_cap', y_column='life_exp', \n",
        "    bubble_column='country', time_column='year', size_column='population', color_column='cont', \n",
        "    x_title=\"GDP per Capita\", y_title=\"Life Expectancy\", title='Gapminder Global Indicators',\n",
        "    x_logscale=True, scale_bubble=3, height=650)\n",
        "\n",
        "iplot(figure, config={'scrollzoom': True})"
      ]
    },
    {
      "cell_type": "markdown",
      "metadata": {
        "id": "sIfN42t9_7Tu"
      },
      "source": [
        "## 2. Gráfica de línea (lineplot)"
      ]
    },
    {
      "cell_type": "code",
      "execution_count": 35,
      "metadata": {
        "id": "0_1qasPM_69u"
      },
      "outputs": [
        {
          "data": {
            "text/plain": [
              "[<matplotlib.lines.Line2D at 0x151d0a903d0>]"
            ]
          },
          "execution_count": 35,
          "metadata": {},
          "output_type": "execute_result"
        },
        {
          "data": {
            "image/png": "[encoded data removed]",
            "text/plain": [
              "<Figure size 432x288 with 1 Axes>"
            ]
          },
          "metadata": {
            "needs_background": "light"
          },
          "output_type": "display_data"
        }
      ],
      "source": [
        "# Definimos los valores a graficar como la suma acumulada de numeros aleatorios entre el 1 y el 1000                                           (https://numpy.org/doc/stable/reference/generated/numpy.cumsum.html)\n",
        "values = np.cumsum(np.random.randn(1000,1))\n",
        "# Usando la funcion de plot                                                                                                                    #(https://matplotlib.org/stable/api/_as_gen/matplotlib.pyplot.plot.html)\n",
        "plt.plot(values, '-')"
      ]
    },
    {
      "cell_type": "markdown",
      "metadata": {
        "id": "l6xXPHvBPwfP"
      },
      "source": [
        "## 3. Histograma (histogram)"
      ]
    },
    {
      "cell_type": "markdown",
      "metadata": {
        "id": "5x9ZX--WPwfR"
      },
      "source": [
        "#### Con Matplotlib"
      ]
    },
    {
      "cell_type": "code",
      "execution_count": 36,
      "metadata": {
        "id": "TXgriYlyPwfR"
      },
      "outputs": [
        {
          "data": {
            "text/plain": [
              "0      43.828\n",
              "1      76.423\n",
              "2      72.301\n",
              "3      42.731\n",
              "4      75.320\n",
              "        ...  \n",
              "137    74.249\n",
              "138    73.422\n",
              "139    62.698\n",
              "140    42.384\n",
              "141    43.487\n",
              "Name: life_exp, Length: 142, dtype: float64"
            ]
          },
          "execution_count": 36,
          "metadata": {},
          "output_type": "execute_result"
        }
      ],
      "source": [
        "gdp['life_exp']"
      ]
    },
    {
      "cell_type": "code",
      "execution_count": 40,
      "metadata": {
        "id": "JS5G8ldxPwfW"
      },
      "outputs": [
        {
          "data": {
            "image/png": "[encoded data removed]",
            "text/plain": [
              "<Figure size 432x288 with 1 Axes>"
            ]
          },
          "metadata": {
            "needs_background": "light"
          },
          "output_type": "display_data"
        }
      ],
      "source": [
        "plt.hist(gdp['life_exp'], bins=30)\n",
        "xlabel = 'Life Expectancy [in years]'\n",
        "plt.xlabel(xlabel)\n",
        "plt.show()"
      ]
    },
    {
      "cell_type": "code",
      "execution_count": 38,
      "metadata": {
        "id": "8suyG2XlPwfT"
      },
      "outputs": [
        {
          "data": {
            "text/plain": [
              "(array([ 1.,  2.,  5.,  1.,  4.,  2.,  4.,  3.,  3.,  3.,  4.,  3.,  2.,\n",
              "         5.,  3.,  1.,  3.,  4.,  4.,  1.,  0.,  6., 15., 12.,  8., 10.,\n",
              "         5., 12., 11.,  5.]),\n",
              " array([39.613, 41.046, 42.479, 43.912, 45.345, 46.778, 48.211, 49.644,\n",
              "        51.077, 52.51 , 53.943, 55.376, 56.809, 58.242, 59.675, 61.108,\n",
              "        62.541, 63.974, 65.407, 66.84 , 68.273, 69.706, 71.139, 72.572,\n",
              "        74.005, 75.438, 76.871, 78.304, 79.737, 81.17 , 82.603]),\n",
              " <BarContainer object of 30 artists>)"
            ]
          },
          "execution_count": 38,
          "metadata": {},
          "output_type": "execute_result"
        },
        {
          "data": {
            "image/png": "[encoded data removed]",
            "text/plain": [
              "<Figure size 432x288 with 1 Axes>"
            ]
          },
          "metadata": {
            "needs_background": "light"
          },
          "output_type": "display_data"
        }
      ],
      "source": [
        "plt.hist(gdp['life_exp'], bins=30, orientation='horizontal')"
      ]
    },
    {
      "cell_type": "markdown",
      "metadata": {
        "id": "Gf_bM7w5PwfY"
      },
      "source": [
        "#### Con Seaborn"
      ]
    },
    {
      "cell_type": "code",
      "execution_count": 41,
      "metadata": {
        "id": "T3NmACdKPwfZ"
      },
      "outputs": [
        {
          "data": {
            "text/plain": [
              "<AxesSubplot:xlabel='sepal_length', ylabel='Count'>"
            ]
          },
          "execution_count": 41,
          "metadata": {},
          "output_type": "execute_result"
        },
        {
          "data": {
            "image/png": "[encoded data removed]",
            "text/plain": [
              "<Figure size 432x288 with 1 Axes>"
            ]
          },
          "metadata": {
            "needs_background": "light"
          },
          "output_type": "display_data"
        }
      ],
      "source": [
        "sns.histplot(iris['sepal_length'], bins=10)"
      ]
    },
    {
      "cell_type": "markdown",
      "metadata": {
        "id": "B-zCzWXJPwfa"
      },
      "source": [
        "#### Generar un histograma por cada categoría (faceting)"
      ]
    },
    {
      "cell_type": "markdown",
      "metadata": {
        "id": "YIIp56qePwfe"
      },
      "source": [
        "Caso 1:\n",
        "- Tenemos datos distribuidos en distintas categorías\n",
        "- Los valores que se relacionan con las categorías se encuentran en la misma escala y en un rango determinado"
      ]
    },
    {
      "cell_type": "code",
      "execution_count": 44,
      "metadata": {
        "id": "IAsaygZpPwfh"
      },
      "outputs": [
        {
          "data": {
            "text/plain": [
              "<matplotlib.legend.Legend at 0x151d1c7b310>"
            ]
          },
          "execution_count": 44,
          "metadata": {},
          "output_type": "execute_result"
        },
        {
          "data": {
            "image/png": "[encoded data removed]",
            "text/plain": [
              "<Figure size 432x288 with 1 Axes>"
            ]
          },
          "metadata": {
            "needs_background": "light"
          },
          "output_type": "display_data"
        }
      ],
      "source": [
        "sns.histplot(iris['sepal_length'], color='blue', label='Length', alpha=0.1)\n",
        "sns.histplot(iris['sepal_width'], color='pink', label='Width')\n",
        "plt.legend(loc='upper right')"
      ]
    },
    {
      "cell_type": "markdown",
      "metadata": {
        "id": "ehu4p8x1Pwfl"
      },
      "source": [
        "Caso 2:\n",
        "- Tenemos datos distribuidos en distintas categorías\n",
        "- Los valores que se relacionan con las categorías se encuentran en la misma escala y en un rango determinado"
      ]
    },
    {
      "cell_type": "code",
      "execution_count": 50,
      "metadata": {
        "id": "wwTAcW2gPwfm"
      },
      "outputs": [
        {
          "data": {
            "image/png": "[encoded data removed]",
            "text/plain": [
              "<Figure size 576x576 with 4 Axes>"
            ]
          },
          "metadata": {
            "needs_background": "light"
          },
          "output_type": "display_data"
        }
      ],
      "source": [
        "f, axes = plt.subplots(2,2, figsize=(8,8))\n",
        "sns.histplot(iris['sepal_length'], color='#05ffa6', ax=axes[0,0])\n",
        "sns.histplot(iris['sepal_width'], color='yellow', ax=axes[0,1])\n",
        "sns.histplot(iris['petal_length'], color='red', ax=axes[1,0])\n",
        "sns.histplot(iris['petal_width'], color='gold', ax=axes[1,1])\n",
        "plt.show()"
      ]
    },
    {
      "cell_type": "markdown",
      "metadata": {
        "id": "MarJcIb2Pwfo"
      },
      "source": [
        "## 4. Gráfica de barras y gráfica de barras apiladas (bar & stack bar chart)"
      ]
    },
    {
      "cell_type": "markdown",
      "metadata": {
        "id": "DX8qxNiGPwfq"
      },
      "source": [
        "### Gapminder: ¿Cuál es la expectativa de vida por cada país?"
      ]
    },
    {
      "cell_type": "code",
      "execution_count": 65,
      "metadata": {
        "id": "ond-YiKGPwfr"
      },
      "outputs": [
        {
          "data": {
            "text/html": [
              "<div>\n",
              "<style scoped>\n",
              "    .dataframe tbody tr th:only-of-type {\n",
              "        vertical-align: middle;\n",
              "    }\n",
              "\n",
              "    .dataframe tbody tr th {\n",
              "        vertical-align: top;\n",
              "    }\n",
              "\n",
              "    .dataframe thead th {\n",
              "        text-align: right;\n",
              "    }\n",
              "</style>\n",
              "<table border=\"1\" class=\"dataframe\">\n",
              "  <thead>\n",
              "    <tr style=\"text-align: right;\">\n",
              "      <th></th>\n",
              "      <th>country</th>\n",
              "      <th>year</th>\n",
              "      <th>population</th>\n",
              "      <th>cont</th>\n",
              "      <th>life_exp</th>\n",
              "      <th>gdp_cap</th>\n",
              "    </tr>\n",
              "  </thead>\n",
              "  <tbody>\n",
              "    <tr>\n",
              "      <th>0</th>\n",
              "      <td>Afghanistan</td>\n",
              "      <td>2007</td>\n",
              "      <td>31889923.0</td>\n",
              "      <td>Asia</td>\n",
              "      <td>43.828</td>\n",
              "      <td>974.580338</td>\n",
              "    </tr>\n",
              "    <tr>\n",
              "      <th>1</th>\n",
              "      <td>Albania</td>\n",
              "      <td>2007</td>\n",
              "      <td>3600523.0</td>\n",
              "      <td>Europe</td>\n",
              "      <td>76.423</td>\n",
              "      <td>5937.029526</td>\n",
              "    </tr>\n",
              "    <tr>\n",
              "      <th>2</th>\n",
              "      <td>Algeria</td>\n",
              "      <td>2007</td>\n",
              "      <td>33333216.0</td>\n",
              "      <td>Africa</td>\n",
              "      <td>72.301</td>\n",
              "      <td>6223.367465</td>\n",
              "    </tr>\n",
              "    <tr>\n",
              "      <th>3</th>\n",
              "      <td>Angola</td>\n",
              "      <td>2007</td>\n",
              "      <td>12420476.0</td>\n",
              "      <td>Africa</td>\n",
              "      <td>42.731</td>\n",
              "      <td>4797.231267</td>\n",
              "    </tr>\n",
              "    <tr>\n",
              "      <th>4</th>\n",
              "      <td>Argentina</td>\n",
              "      <td>2007</td>\n",
              "      <td>40301927.0</td>\n",
              "      <td>Americas</td>\n",
              "      <td>75.320</td>\n",
              "      <td>12779.379640</td>\n",
              "    </tr>\n",
              "    <tr>\n",
              "      <th>...</th>\n",
              "      <td>...</td>\n",
              "      <td>...</td>\n",
              "      <td>...</td>\n",
              "      <td>...</td>\n",
              "      <td>...</td>\n",
              "      <td>...</td>\n",
              "    </tr>\n",
              "    <tr>\n",
              "      <th>137</th>\n",
              "      <td>Vietnam</td>\n",
              "      <td>2007</td>\n",
              "      <td>85262356.0</td>\n",
              "      <td>Asia</td>\n",
              "      <td>74.249</td>\n",
              "      <td>2441.576404</td>\n",
              "    </tr>\n",
              "    <tr>\n",
              "      <th>138</th>\n",
              "      <td>West Bank and Gaza</td>\n",
              "      <td>2007</td>\n",
              "      <td>4018332.0</td>\n",
              "      <td>Asia</td>\n",
              "      <td>73.422</td>\n",
              "      <td>3025.349798</td>\n",
              "    </tr>\n",
              "    <tr>\n",
              "      <th>139</th>\n",
              "      <td>Yemen, Rep.</td>\n",
              "      <td>2007</td>\n",
              "      <td>22211743.0</td>\n",
              "      <td>Asia</td>\n",
              "      <td>62.698</td>\n",
              "      <td>2280.769906</td>\n",
              "    </tr>\n",
              "    <tr>\n",
              "      <th>140</th>\n",
              "      <td>Zambia</td>\n",
              "      <td>2007</td>\n",
              "      <td>11746035.0</td>\n",
              "      <td>Africa</td>\n",
              "      <td>42.384</td>\n",
              "      <td>1271.211593</td>\n",
              "    </tr>\n",
              "    <tr>\n",
              "      <th>141</th>\n",
              "      <td>Zimbabwe</td>\n",
              "      <td>2007</td>\n",
              "      <td>12311143.0</td>\n",
              "      <td>Africa</td>\n",
              "      <td>43.487</td>\n",
              "      <td>469.709298</td>\n",
              "    </tr>\n",
              "  </tbody>\n",
              "</table>\n",
              "<p>142 rows × 6 columns</p>\n",
              "</div>"
            ],
            "text/plain": [
              "                country  year  population      cont  life_exp       gdp_cap\n",
              "0           Afghanistan  2007  31889923.0      Asia    43.828    974.580338\n",
              "1               Albania  2007   3600523.0    Europe    76.423   5937.029526\n",
              "2               Algeria  2007  33333216.0    Africa    72.301   6223.367465\n",
              "3                Angola  2007  12420476.0    Africa    42.731   4797.231267\n",
              "4             Argentina  2007  40301927.0  Americas    75.320  12779.379640\n",
              "..                  ...   ...         ...       ...       ...           ...\n",
              "137             Vietnam  2007  85262356.0      Asia    74.249   2441.576404\n",
              "138  West Bank and Gaza  2007   4018332.0      Asia    73.422   3025.349798\n",
              "139         Yemen, Rep.  2007  22211743.0      Asia    62.698   2280.769906\n",
              "140              Zambia  2007  11746035.0    Africa    42.384   1271.211593\n",
              "141            Zimbabwe  2007  12311143.0    Africa    43.487    469.709298\n",
              "\n",
              "[142 rows x 6 columns]"
            ]
          },
          "execution_count": 65,
          "metadata": {},
          "output_type": "execute_result"
        }
      ],
      "source": [
        "gdp.head(5)\n",
        "gdp = gdp.drop(columns = 'Unnamed: 0' )\n",
        "gdp"
      ]
    },
    {
      "cell_type": "code",
      "execution_count": 67,
      "metadata": {
        "id": "69JGdyxOPwfs"
      },
      "outputs": [
        {
          "data": {
            "text/html": [
              "<div>\n",
              "<style scoped>\n",
              "    .dataframe tbody tr th:only-of-type {\n",
              "        vertical-align: middle;\n",
              "    }\n",
              "\n",
              "    .dataframe tbody tr th {\n",
              "        vertical-align: top;\n",
              "    }\n",
              "\n",
              "    .dataframe thead th {\n",
              "        text-align: right;\n",
              "    }\n",
              "</style>\n",
              "<table border=\"1\" class=\"dataframe\">\n",
              "  <thead>\n",
              "    <tr style=\"text-align: right;\">\n",
              "      <th></th>\n",
              "      <th>country</th>\n",
              "      <th>life_exp</th>\n",
              "      <th>year</th>\n",
              "    </tr>\n",
              "  </thead>\n",
              "  <tbody>\n",
              "    <tr>\n",
              "      <th>2</th>\n",
              "      <td>Algeria</td>\n",
              "      <td>72.301</td>\n",
              "      <td>2007</td>\n",
              "    </tr>\n",
              "    <tr>\n",
              "      <th>3</th>\n",
              "      <td>Angola</td>\n",
              "      <td>42.731</td>\n",
              "      <td>2007</td>\n",
              "    </tr>\n",
              "    <tr>\n",
              "      <th>10</th>\n",
              "      <td>Benin</td>\n",
              "      <td>56.728</td>\n",
              "      <td>2007</td>\n",
              "    </tr>\n",
              "    <tr>\n",
              "      <th>13</th>\n",
              "      <td>Botswana</td>\n",
              "      <td>50.728</td>\n",
              "      <td>2007</td>\n",
              "    </tr>\n",
              "    <tr>\n",
              "      <th>16</th>\n",
              "      <td>Burkina Faso</td>\n",
              "      <td>52.295</td>\n",
              "      <td>2007</td>\n",
              "    </tr>\n",
              "    <tr>\n",
              "      <th>17</th>\n",
              "      <td>Burundi</td>\n",
              "      <td>49.580</td>\n",
              "      <td>2007</td>\n",
              "    </tr>\n",
              "    <tr>\n",
              "      <th>19</th>\n",
              "      <td>Cameroon</td>\n",
              "      <td>50.430</td>\n",
              "      <td>2007</td>\n",
              "    </tr>\n",
              "    <tr>\n",
              "      <th>21</th>\n",
              "      <td>Central African Republic</td>\n",
              "      <td>44.741</td>\n",
              "      <td>2007</td>\n",
              "    </tr>\n",
              "    <tr>\n",
              "      <th>22</th>\n",
              "      <td>Chad</td>\n",
              "      <td>50.651</td>\n",
              "      <td>2007</td>\n",
              "    </tr>\n",
              "    <tr>\n",
              "      <th>26</th>\n",
              "      <td>Comoros</td>\n",
              "      <td>65.152</td>\n",
              "      <td>2007</td>\n",
              "    </tr>\n",
              "    <tr>\n",
              "      <th>27</th>\n",
              "      <td>Congo, Dem. Rep.</td>\n",
              "      <td>46.462</td>\n",
              "      <td>2007</td>\n",
              "    </tr>\n",
              "    <tr>\n",
              "      <th>28</th>\n",
              "      <td>Congo, Rep.</td>\n",
              "      <td>55.322</td>\n",
              "      <td>2007</td>\n",
              "    </tr>\n",
              "    <tr>\n",
              "      <th>30</th>\n",
              "      <td>Cote d'Ivoire</td>\n",
              "      <td>48.328</td>\n",
              "      <td>2007</td>\n",
              "    </tr>\n",
              "    <tr>\n",
              "      <th>35</th>\n",
              "      <td>Djibouti</td>\n",
              "      <td>54.791</td>\n",
              "      <td>2007</td>\n",
              "    </tr>\n",
              "    <tr>\n",
              "      <th>38</th>\n",
              "      <td>Egypt</td>\n",
              "      <td>71.338</td>\n",
              "      <td>2007</td>\n",
              "    </tr>\n",
              "    <tr>\n",
              "      <th>40</th>\n",
              "      <td>Equatorial Guinea</td>\n",
              "      <td>51.579</td>\n",
              "      <td>2007</td>\n",
              "    </tr>\n",
              "    <tr>\n",
              "      <th>41</th>\n",
              "      <td>Eritrea</td>\n",
              "      <td>58.040</td>\n",
              "      <td>2007</td>\n",
              "    </tr>\n",
              "    <tr>\n",
              "      <th>42</th>\n",
              "      <td>Ethiopia</td>\n",
              "      <td>52.947</td>\n",
              "      <td>2007</td>\n",
              "    </tr>\n",
              "    <tr>\n",
              "      <th>45</th>\n",
              "      <td>Gabon</td>\n",
              "      <td>56.735</td>\n",
              "      <td>2007</td>\n",
              "    </tr>\n",
              "    <tr>\n",
              "      <th>46</th>\n",
              "      <td>Gambia</td>\n",
              "      <td>59.448</td>\n",
              "      <td>2007</td>\n",
              "    </tr>\n",
              "    <tr>\n",
              "      <th>48</th>\n",
              "      <td>Ghana</td>\n",
              "      <td>60.022</td>\n",
              "      <td>2007</td>\n",
              "    </tr>\n",
              "    <tr>\n",
              "      <th>51</th>\n",
              "      <td>Guinea</td>\n",
              "      <td>56.007</td>\n",
              "      <td>2007</td>\n",
              "    </tr>\n",
              "    <tr>\n",
              "      <th>52</th>\n",
              "      <td>Guinea-Bissau</td>\n",
              "      <td>46.388</td>\n",
              "      <td>2007</td>\n",
              "    </tr>\n",
              "    <tr>\n",
              "      <th>68</th>\n",
              "      <td>Kenya</td>\n",
              "      <td>54.110</td>\n",
              "      <td>2007</td>\n",
              "    </tr>\n",
              "    <tr>\n",
              "      <th>73</th>\n",
              "      <td>Lesotho</td>\n",
              "      <td>42.592</td>\n",
              "      <td>2007</td>\n",
              "    </tr>\n",
              "    <tr>\n",
              "      <th>74</th>\n",
              "      <td>Liberia</td>\n",
              "      <td>45.678</td>\n",
              "      <td>2007</td>\n",
              "    </tr>\n",
              "    <tr>\n",
              "      <th>75</th>\n",
              "      <td>Libya</td>\n",
              "      <td>73.952</td>\n",
              "      <td>2007</td>\n",
              "    </tr>\n",
              "    <tr>\n",
              "      <th>76</th>\n",
              "      <td>Madagascar</td>\n",
              "      <td>59.443</td>\n",
              "      <td>2007</td>\n",
              "    </tr>\n",
              "    <tr>\n",
              "      <th>77</th>\n",
              "      <td>Malawi</td>\n",
              "      <td>48.303</td>\n",
              "      <td>2007</td>\n",
              "    </tr>\n",
              "    <tr>\n",
              "      <th>79</th>\n",
              "      <td>Mali</td>\n",
              "      <td>54.467</td>\n",
              "      <td>2007</td>\n",
              "    </tr>\n",
              "    <tr>\n",
              "      <th>80</th>\n",
              "      <td>Mauritania</td>\n",
              "      <td>64.164</td>\n",
              "      <td>2007</td>\n",
              "    </tr>\n",
              "    <tr>\n",
              "      <th>81</th>\n",
              "      <td>Mauritius</td>\n",
              "      <td>72.801</td>\n",
              "      <td>2007</td>\n",
              "    </tr>\n",
              "    <tr>\n",
              "      <th>85</th>\n",
              "      <td>Morocco</td>\n",
              "      <td>71.164</td>\n",
              "      <td>2007</td>\n",
              "    </tr>\n",
              "    <tr>\n",
              "      <th>86</th>\n",
              "      <td>Mozambique</td>\n",
              "      <td>42.082</td>\n",
              "      <td>2007</td>\n",
              "    </tr>\n",
              "    <tr>\n",
              "      <th>88</th>\n",
              "      <td>Namibia</td>\n",
              "      <td>52.906</td>\n",
              "      <td>2007</td>\n",
              "    </tr>\n",
              "    <tr>\n",
              "      <th>93</th>\n",
              "      <td>Niger</td>\n",
              "      <td>56.867</td>\n",
              "      <td>2007</td>\n",
              "    </tr>\n",
              "    <tr>\n",
              "      <th>94</th>\n",
              "      <td>Nigeria</td>\n",
              "      <td>46.859</td>\n",
              "      <td>2007</td>\n",
              "    </tr>\n",
              "    <tr>\n",
              "      <th>105</th>\n",
              "      <td>Reunion</td>\n",
              "      <td>76.442</td>\n",
              "      <td>2007</td>\n",
              "    </tr>\n",
              "    <tr>\n",
              "      <th>107</th>\n",
              "      <td>Rwanda</td>\n",
              "      <td>46.242</td>\n",
              "      <td>2007</td>\n",
              "    </tr>\n",
              "    <tr>\n",
              "      <th>108</th>\n",
              "      <td>Sao Tome and Principe</td>\n",
              "      <td>65.528</td>\n",
              "      <td>2007</td>\n",
              "    </tr>\n",
              "    <tr>\n",
              "      <th>110</th>\n",
              "      <td>Senegal</td>\n",
              "      <td>63.062</td>\n",
              "      <td>2007</td>\n",
              "    </tr>\n",
              "    <tr>\n",
              "      <th>112</th>\n",
              "      <td>Sierra Leone</td>\n",
              "      <td>42.568</td>\n",
              "      <td>2007</td>\n",
              "    </tr>\n",
              "    <tr>\n",
              "      <th>116</th>\n",
              "      <td>Somalia</td>\n",
              "      <td>48.159</td>\n",
              "      <td>2007</td>\n",
              "    </tr>\n",
              "    <tr>\n",
              "      <th>117</th>\n",
              "      <td>South Africa</td>\n",
              "      <td>49.339</td>\n",
              "      <td>2007</td>\n",
              "    </tr>\n",
              "    <tr>\n",
              "      <th>120</th>\n",
              "      <td>Sudan</td>\n",
              "      <td>58.556</td>\n",
              "      <td>2007</td>\n",
              "    </tr>\n",
              "    <tr>\n",
              "      <th>121</th>\n",
              "      <td>Swaziland</td>\n",
              "      <td>39.613</td>\n",
              "      <td>2007</td>\n",
              "    </tr>\n",
              "    <tr>\n",
              "      <th>126</th>\n",
              "      <td>Tanzania</td>\n",
              "      <td>52.517</td>\n",
              "      <td>2007</td>\n",
              "    </tr>\n",
              "    <tr>\n",
              "      <th>128</th>\n",
              "      <td>Togo</td>\n",
              "      <td>58.420</td>\n",
              "      <td>2007</td>\n",
              "    </tr>\n",
              "    <tr>\n",
              "      <th>130</th>\n",
              "      <td>Tunisia</td>\n",
              "      <td>73.923</td>\n",
              "      <td>2007</td>\n",
              "    </tr>\n",
              "    <tr>\n",
              "      <th>132</th>\n",
              "      <td>Uganda</td>\n",
              "      <td>51.542</td>\n",
              "      <td>2007</td>\n",
              "    </tr>\n",
              "    <tr>\n",
              "      <th>140</th>\n",
              "      <td>Zambia</td>\n",
              "      <td>42.384</td>\n",
              "      <td>2007</td>\n",
              "    </tr>\n",
              "    <tr>\n",
              "      <th>141</th>\n",
              "      <td>Zimbabwe</td>\n",
              "      <td>43.487</td>\n",
              "      <td>2007</td>\n",
              "    </tr>\n",
              "  </tbody>\n",
              "</table>\n",
              "</div>"
            ],
            "text/plain": [
              "                      country  life_exp  year\n",
              "2                     Algeria    72.301  2007\n",
              "3                      Angola    42.731  2007\n",
              "10                      Benin    56.728  2007\n",
              "13                   Botswana    50.728  2007\n",
              "16               Burkina Faso    52.295  2007\n",
              "17                    Burundi    49.580  2007\n",
              "19                   Cameroon    50.430  2007\n",
              "21   Central African Republic    44.741  2007\n",
              "22                       Chad    50.651  2007\n",
              "26                    Comoros    65.152  2007\n",
              "27           Congo, Dem. Rep.    46.462  2007\n",
              "28                Congo, Rep.    55.322  2007\n",
              "30              Cote d'Ivoire    48.328  2007\n",
              "35                   Djibouti    54.791  2007\n",
              "38                      Egypt    71.338  2007\n",
              "40          Equatorial Guinea    51.579  2007\n",
              "41                    Eritrea    58.040  2007\n",
              "42                   Ethiopia    52.947  2007\n",
              "45                      Gabon    56.735  2007\n",
              "46                     Gambia    59.448  2007\n",
              "48                      Ghana    60.022  2007\n",
              "51                     Guinea    56.007  2007\n",
              "52              Guinea-Bissau    46.388  2007\n",
              "68                      Kenya    54.110  2007\n",
              "73                    Lesotho    42.592  2007\n",
              "74                    Liberia    45.678  2007\n",
              "75                      Libya    73.952  2007\n",
              "76                 Madagascar    59.443  2007\n",
              "77                     Malawi    48.303  2007\n",
              "79                       Mali    54.467  2007\n",
              "80                 Mauritania    64.164  2007\n",
              "81                  Mauritius    72.801  2007\n",
              "85                    Morocco    71.164  2007\n",
              "86                 Mozambique    42.082  2007\n",
              "88                    Namibia    52.906  2007\n",
              "93                      Niger    56.867  2007\n",
              "94                    Nigeria    46.859  2007\n",
              "105                   Reunion    76.442  2007\n",
              "107                    Rwanda    46.242  2007\n",
              "108     Sao Tome and Principe    65.528  2007\n",
              "110                   Senegal    63.062  2007\n",
              "112              Sierra Leone    42.568  2007\n",
              "116                   Somalia    48.159  2007\n",
              "117              South Africa    49.339  2007\n",
              "120                     Sudan    58.556  2007\n",
              "121                 Swaziland    39.613  2007\n",
              "126                  Tanzania    52.517  2007\n",
              "128                      Togo    58.420  2007\n",
              "130                   Tunisia    73.923  2007\n",
              "132                    Uganda    51.542  2007\n",
              "140                    Zambia    42.384  2007\n",
              "141                  Zimbabwe    43.487  2007"
            ]
          },
          "execution_count": 67,
          "metadata": {},
          "output_type": "execute_result"
        }
      ],
      "source": [
        "#Extraemos las filas de inicio a fin de las columnas de 'country', 'life_exp' donde el continente sea Africa \n",
        "gdp_africa = gdp[gdp['cont'] == 'Africa'].loc[:, ('country', 'life_exp', 'year')]\n",
        "gdp_africa\n"
      ]
    },
    {
      "cell_type": "code",
      "execution_count": 68,
      "metadata": {
        "id": "4EcB4EsZPwf0"
      },
      "outputs": [
        {
          "data": {
            "text/plain": [
              "<AxesSubplot:xlabel='country'>"
            ]
          },
          "execution_count": 68,
          "metadata": {},
          "output_type": "execute_result"
        },
        {
          "data": {
            "image/png": "[encoded data removed]",
            "text/plain": [
              "<Figure size 432x288 with 1 Axes>"
            ]
          },
          "metadata": {
            "needs_background": "light"
          },
          "output_type": "display_data"
        }
      ],
      "source": [
        "#usando los recursos de PANDAS se graficaria asi:                                                                    (https://pandas.pydata.org/pandas-docs/version/0.23/generated/pandas.DataFrame.plot.html)\n",
        "gdp_africa.plot(kind='bar', x='country', y='life_exp', color = 'blue')\n",
        "#pero estan desordenadas y si quiero cambiar eso debo de hacer un tratamiento a los datos"
      ]
    },
    {
      "cell_type": "code",
      "execution_count": 69,
      "metadata": {
        "id": "LVRbO1fAPwfu"
      },
      "outputs": [
        {
          "data": {
            "text/plain": [
              "array([76.442, 73.952, 73.923, 72.801, 72.301, 71.338, 71.164, 65.528,\n",
              "       65.152, 64.164, 63.062, 60.022, 59.448, 59.443, 58.556, 58.42 ,\n",
              "       58.04 , 56.867, 56.735, 56.728, 56.007, 55.322, 54.791, 54.467,\n",
              "       54.11 , 52.947, 52.906, 52.517, 52.295, 51.579, 51.542, 50.728,\n",
              "       50.651, 50.43 , 49.58 , 49.339, 48.328, 48.303, 48.159, 46.859,\n",
              "       46.462, 46.388, 46.242, 45.678, 44.741, 43.487, 42.731, 42.592,\n",
              "       42.568, 42.384, 42.082, 39.613])"
            ]
          },
          "execution_count": 69,
          "metadata": {},
          "output_type": "execute_result"
        }
      ],
      "source": [
        "#Creamos un conjunto ordenado descendentemente de la expectativa de vida de los paises de africa\n",
        "#que seran nuestras alturas en la grafica\n",
        "height = gdp_africa.loc[:, 'life_exp']\n",
        "height = np.sort(height)[::-1]\n",
        "height \n"
      ]
    },
    {
      "cell_type": "code",
      "execution_count": 71,
      "metadata": {
        "id": "ZgKdFwfHPwfw"
      },
      "outputs": [
        {
          "data": {
            "text/plain": [
              "2                       Algeria\n",
              "3                        Angola\n",
              "10                        Benin\n",
              "13                     Botswana\n",
              "16                 Burkina Faso\n",
              "17                      Burundi\n",
              "19                     Cameroon\n",
              "21     Central African Republic\n",
              "22                         Chad\n",
              "26                      Comoros\n",
              "27             Congo, Dem. Rep.\n",
              "28                  Congo, Rep.\n",
              "30                Cote d'Ivoire\n",
              "35                     Djibouti\n",
              "38                        Egypt\n",
              "40            Equatorial Guinea\n",
              "41                      Eritrea\n",
              "42                     Ethiopia\n",
              "45                        Gabon\n",
              "46                       Gambia\n",
              "48                        Ghana\n",
              "51                       Guinea\n",
              "52                Guinea-Bissau\n",
              "68                        Kenya\n",
              "73                      Lesotho\n",
              "74                      Liberia\n",
              "75                        Libya\n",
              "76                   Madagascar\n",
              "77                       Malawi\n",
              "79                         Mali\n",
              "80                   Mauritania\n",
              "81                    Mauritius\n",
              "85                      Morocco\n",
              "86                   Mozambique\n",
              "88                      Namibia\n",
              "93                        Niger\n",
              "94                      Nigeria\n",
              "105                     Reunion\n",
              "107                      Rwanda\n",
              "108       Sao Tome and Principe\n",
              "110                     Senegal\n",
              "112                Sierra Leone\n",
              "116                     Somalia\n",
              "117                South Africa\n",
              "120                       Sudan\n",
              "121                   Swaziland\n",
              "126                    Tanzania\n",
              "128                        Togo\n",
              "130                     Tunisia\n",
              "132                      Uganda\n",
              "140                      Zambia\n",
              "141                    Zimbabwe\n",
              "Name: country, dtype: object"
            ]
          },
          "execution_count": 71,
          "metadata": {},
          "output_type": "execute_result"
        }
      ],
      "source": [
        "#Creamos un conjunto de los paises de africa\n",
        "#que seran los intervalos para las barras\n",
        "bars = gdp_africa.loc[:, 'country']\n",
        "bars"
      ]
    },
    {
      "cell_type": "code",
      "execution_count": 79,
      "metadata": {
        "id": "lgX4EcvgPwfz"
      },
      "outputs": [
        {
          "name": "stdout",
          "output_type": "stream",
          "text": [
            "[0, 1, 2, 3, 4, 5, 6, 7, 8, 9, 10, 11, 12, 13, 14, 15, 16, 17, 18, 19, 20, 21, 22, 23, 24, 25, 26, 27, 28, 29, 30, 31, 32, 33, 34, 35, 36, 37, 38, 39, 40, 41, 42, 43, 44, 45, 46, 47, 48, 49, 50, 51]\n"
          ]
        },
        {
          "data": {
            "text/plain": [
              "Text(0, 0.5, 'Expectatica de Vida')"
            ]
          },
          "execution_count": 79,
          "metadata": {},
          "output_type": "execute_result"
        },
        {
          "data": {
            "image/png": "[encoded data removed]",
            "text/plain": [
              "<Figure size 432x288 with 1 Axes>"
            ]
          },
          "metadata": {
            "needs_background": "light"
          },
          "output_type": "display_data"
        }
      ],
      "source": [
        "# Aquí indicamos el orden en el que deben aparecer las barras\n",
        "x_pos = [i for i,_ in enumerate(bars)]\n",
        "print(x_pos)\n",
        "# Ordenamos \n",
        "x_pos = np.sort(x_pos)\n",
        "# Invertimos el orden para que sea ascendente\n",
        "x_pos = x_pos[::-1]\n",
        "# Creamos las barras\n",
        "plt.bar(x_pos, height, color='blue')\n",
        "# Creamos los nombres de los ejes\n",
        "plt.xticks(x_pos, bars, rotation=90)\n",
        "# Título\n",
        "plt.title('Expectativa de vida en Africa')\n",
        "# Etiqueta del eje\n",
        "plt.xlabel('País')\n",
        "plt.ylabel('Expectativa de Vida')\n"
      ]
    },
    {
      "cell_type": "markdown",
      "metadata": {
        "id": "NKn2R3QSPwf2"
      },
      "source": [
        "## Gráfica apilada de totales"
      ]
    },
    {
      "cell_type": "markdown",
      "metadata": {
        "id": "MOOd3Z6vPwf3"
      },
      "source": [
        "Iniciemos con un ejemplo muy sencillo. En este caso, estamos generando un data frame desde cero."
      ]
    },
    {
      "cell_type": "markdown",
      "metadata": {
        "id": "UtzJcuMVPwf4"
      },
      "source": [
        "Observa que el data frame tiene algunas características:\n",
        "- El índice es una columna de categorías (se sitúan en el eje X)\n",
        "- El restos de columnas son numéricas y cada una cuenta para un conjunto de barras\n",
        "- Los valores de las columnas numéricas son las alturas de las barras"
      ]
    },
    {
      "cell_type": "code",
      "execution_count": 80,
      "metadata": {
        "id": "BtyT3kyrPwf5"
      },
      "outputs": [],
      "source": [
        "esperanza_de_vida_mujeres = [85.10, 83.70\t, 79.86\t, 85.30\t, 84.70, 79.65, 77.84]\n",
        "esperanza_de_vida_hombres = [79.70, 79, 74.33, 79.2, 80.1, 74.06, 72.12]\n",
        "index = ['España', 'Alemania', 'Colombia',\n",
        "         'Francia', 'Italia', 'Ecuador', 'Mexico']\n",
        "\n"
      ]
    },
    {
      "cell_type": "markdown",
      "metadata": {
        "id": "U8kLu3PgPwf6"
      },
      "source": [
        "Para cambiar entre una gráfica de barras lado a lado a una de barras apiladas, cambia el valor del argumento **stacked** a True."
      ]
    },
    {
      "cell_type": "code",
      "execution_count": 82,
      "metadata": {
        "id": "CdXkxiwpPwf8"
      },
      "outputs": [
        {
          "data": {
            "text/html": [
              "<div>\n",
              "<style scoped>\n",
              "    .dataframe tbody tr th:only-of-type {\n",
              "        vertical-align: middle;\n",
              "    }\n",
              "\n",
              "    .dataframe tbody tr th {\n",
              "        vertical-align: top;\n",
              "    }\n",
              "\n",
              "    .dataframe thead th {\n",
              "        text-align: right;\n",
              "    }\n",
              "</style>\n",
              "<table border=\"1\" class=\"dataframe\">\n",
              "  <thead>\n",
              "    <tr style=\"text-align: right;\">\n",
              "      <th></th>\n",
              "      <th>Mujeres</th>\n",
              "      <th>Hombres</th>\n",
              "    </tr>\n",
              "  </thead>\n",
              "  <tbody>\n",
              "    <tr>\n",
              "      <th>España</th>\n",
              "      <td>85.10</td>\n",
              "      <td>79.70</td>\n",
              "    </tr>\n",
              "    <tr>\n",
              "      <th>Alemania</th>\n",
              "      <td>83.70</td>\n",
              "      <td>79.00</td>\n",
              "    </tr>\n",
              "    <tr>\n",
              "      <th>Colombia</th>\n",
              "      <td>79.86</td>\n",
              "      <td>74.33</td>\n",
              "    </tr>\n",
              "    <tr>\n",
              "      <th>Francia</th>\n",
              "      <td>85.30</td>\n",
              "      <td>79.20</td>\n",
              "    </tr>\n",
              "    <tr>\n",
              "      <th>Italia</th>\n",
              "      <td>84.70</td>\n",
              "      <td>80.10</td>\n",
              "    </tr>\n",
              "    <tr>\n",
              "      <th>Ecuador</th>\n",
              "      <td>79.65</td>\n",
              "      <td>74.06</td>\n",
              "    </tr>\n",
              "    <tr>\n",
              "      <th>Mexico</th>\n",
              "      <td>77.84</td>\n",
              "      <td>72.12</td>\n",
              "    </tr>\n",
              "  </tbody>\n",
              "</table>\n",
              "</div>"
            ],
            "text/plain": [
              "          Mujeres  Hombres\n",
              "España      85.10    79.70\n",
              "Alemania    83.70    79.00\n",
              "Colombia    79.86    74.33\n",
              "Francia     85.30    79.20\n",
              "Italia      84.70    80.10\n",
              "Ecuador     79.65    74.06\n",
              "Mexico      77.84    72.12"
            ]
          },
          "execution_count": 82,
          "metadata": {},
          "output_type": "execute_result"
        }
      ],
      "source": [
        "df = pd.DataFrame({'Mujeres': esperanza_de_vida_mujeres, 'Hombres': esperanza_de_vida_hombres}, index= index)\n",
        "df"
      ]
    },
    {
      "cell_type": "code",
      "execution_count": 83,
      "metadata": {},
      "outputs": [
        {
          "data": {
            "text/plain": [
              "<AxesSubplot:>"
            ]
          },
          "execution_count": 83,
          "metadata": {},
          "output_type": "execute_result"
        },
        {
          "data": {
            "image/png": "[encoded data removed]",
            "text/plain": [
              "<Figure size 432x288 with 1 Axes>"
            ]
          },
          "metadata": {
            "needs_background": "light"
          },
          "output_type": "display_data"
        }
      ],
      "source": [
        "df.plot.bar(rot=0, stacked = True )"
      ]
    },
    {
      "cell_type": "markdown",
      "metadata": {
        "id": "OMlt89FUPwf9"
      },
      "source": [
        "### Ejemplo con dos columnas categóricas"
      ]
    },
    {
      "cell_type": "markdown",
      "metadata": {
        "id": "OBpAVUQ7Pwf9"
      },
      "source": [
        "Del total de vuelos en cada año, ¿qué parte corresponde a cade mes?"
      ]
    },
    {
      "cell_type": "code",
      "execution_count": 98,
      "metadata": {
        "id": "gLRSVJm6Pwf-"
      },
      "outputs": [
        {
          "data": {
            "text/html": [
              "<div>\n",
              "<style scoped>\n",
              "    .dataframe tbody tr th:only-of-type {\n",
              "        vertical-align: middle;\n",
              "    }\n",
              "\n",
              "    .dataframe tbody tr th {\n",
              "        vertical-align: top;\n",
              "    }\n",
              "\n",
              "    .dataframe thead th {\n",
              "        text-align: right;\n",
              "    }\n",
              "</style>\n",
              "<table border=\"1\" class=\"dataframe\">\n",
              "  <thead>\n",
              "    <tr style=\"text-align: right;\">\n",
              "      <th></th>\n",
              "      <th>year</th>\n",
              "      <th>month</th>\n",
              "      <th>passengers</th>\n",
              "    </tr>\n",
              "  </thead>\n",
              "  <tbody>\n",
              "    <tr>\n",
              "      <th>0</th>\n",
              "      <td>1949</td>\n",
              "      <td>Jan</td>\n",
              "      <td>112</td>\n",
              "    </tr>\n",
              "    <tr>\n",
              "      <th>1</th>\n",
              "      <td>1949</td>\n",
              "      <td>Feb</td>\n",
              "      <td>118</td>\n",
              "    </tr>\n",
              "    <tr>\n",
              "      <th>2</th>\n",
              "      <td>1949</td>\n",
              "      <td>Mar</td>\n",
              "      <td>132</td>\n",
              "    </tr>\n",
              "    <tr>\n",
              "      <th>3</th>\n",
              "      <td>1949</td>\n",
              "      <td>Apr</td>\n",
              "      <td>129</td>\n",
              "    </tr>\n",
              "    <tr>\n",
              "      <th>4</th>\n",
              "      <td>1949</td>\n",
              "      <td>May</td>\n",
              "      <td>121</td>\n",
              "    </tr>\n",
              "    <tr>\n",
              "      <th>...</th>\n",
              "      <td>...</td>\n",
              "      <td>...</td>\n",
              "      <td>...</td>\n",
              "    </tr>\n",
              "    <tr>\n",
              "      <th>139</th>\n",
              "      <td>1960</td>\n",
              "      <td>Aug</td>\n",
              "      <td>606</td>\n",
              "    </tr>\n",
              "    <tr>\n",
              "      <th>140</th>\n",
              "      <td>1960</td>\n",
              "      <td>Sep</td>\n",
              "      <td>508</td>\n",
              "    </tr>\n",
              "    <tr>\n",
              "      <th>141</th>\n",
              "      <td>1960</td>\n",
              "      <td>Oct</td>\n",
              "      <td>461</td>\n",
              "    </tr>\n",
              "    <tr>\n",
              "      <th>142</th>\n",
              "      <td>1960</td>\n",
              "      <td>Nov</td>\n",
              "      <td>390</td>\n",
              "    </tr>\n",
              "    <tr>\n",
              "      <th>143</th>\n",
              "      <td>1960</td>\n",
              "      <td>Dec</td>\n",
              "      <td>432</td>\n",
              "    </tr>\n",
              "  </tbody>\n",
              "</table>\n",
              "<p>144 rows × 3 columns</p>\n",
              "</div>"
            ],
            "text/plain": [
              "     year month  passengers\n",
              "0    1949   Jan         112\n",
              "1    1949   Feb         118\n",
              "2    1949   Mar         132\n",
              "3    1949   Apr         129\n",
              "4    1949   May         121\n",
              "..    ...   ...         ...\n",
              "139  1960   Aug         606\n",
              "140  1960   Sep         508\n",
              "141  1960   Oct         461\n",
              "142  1960   Nov         390\n",
              "143  1960   Dec         432\n",
              "\n",
              "[144 rows x 3 columns]"
            ]
          },
          "execution_count": 98,
          "metadata": {},
          "output_type": "execute_result"
        }
      ],
      "source": [
        "flights"
      ]
    },
    {
      "cell_type": "code",
      "execution_count": 99,
      "metadata": {
        "id": "sXLBlYWHPwf_"
      },
      "outputs": [],
      "source": [
        "#Hacemos una copia del orignial para no editarlo directamente\n",
        "flights_df = flights.copy()"
      ]
    },
    {
      "cell_type": "markdown",
      "metadata": {
        "id": "_yQ142zAPwf_"
      },
      "source": [
        "Antes, debemos corroborar que la columna 'year' sea categórica"
      ]
    },
    {
      "cell_type": "code",
      "execution_count": 100,
      "metadata": {
        "id": "52wQ2WziPwf_"
      },
      "outputs": [
        {
          "data": {
            "text/html": [
              "<div>\n",
              "<style scoped>\n",
              "    .dataframe tbody tr th:only-of-type {\n",
              "        vertical-align: middle;\n",
              "    }\n",
              "\n",
              "    .dataframe tbody tr th {\n",
              "        vertical-align: top;\n",
              "    }\n",
              "\n",
              "    .dataframe thead th {\n",
              "        text-align: right;\n",
              "    }\n",
              "</style>\n",
              "<table border=\"1\" class=\"dataframe\">\n",
              "  <thead>\n",
              "    <tr style=\"text-align: right;\">\n",
              "      <th></th>\n",
              "      <th>year</th>\n",
              "      <th>passengers</th>\n",
              "    </tr>\n",
              "  </thead>\n",
              "  <tbody>\n",
              "    <tr>\n",
              "      <th>count</th>\n",
              "      <td>144.000000</td>\n",
              "      <td>144.000000</td>\n",
              "    </tr>\n",
              "    <tr>\n",
              "      <th>mean</th>\n",
              "      <td>1954.500000</td>\n",
              "      <td>280.298611</td>\n",
              "    </tr>\n",
              "    <tr>\n",
              "      <th>std</th>\n",
              "      <td>3.464102</td>\n",
              "      <td>119.966317</td>\n",
              "    </tr>\n",
              "    <tr>\n",
              "      <th>min</th>\n",
              "      <td>1949.000000</td>\n",
              "      <td>104.000000</td>\n",
              "    </tr>\n",
              "    <tr>\n",
              "      <th>25%</th>\n",
              "      <td>1951.750000</td>\n",
              "      <td>180.000000</td>\n",
              "    </tr>\n",
              "    <tr>\n",
              "      <th>50%</th>\n",
              "      <td>1954.500000</td>\n",
              "      <td>265.500000</td>\n",
              "    </tr>\n",
              "    <tr>\n",
              "      <th>75%</th>\n",
              "      <td>1957.250000</td>\n",
              "      <td>360.500000</td>\n",
              "    </tr>\n",
              "    <tr>\n",
              "      <th>max</th>\n",
              "      <td>1960.000000</td>\n",
              "      <td>622.000000</td>\n",
              "    </tr>\n",
              "  </tbody>\n",
              "</table>\n",
              "</div>"
            ],
            "text/plain": [
              "              year  passengers\n",
              "count   144.000000  144.000000\n",
              "mean   1954.500000  280.298611\n",
              "std       3.464102  119.966317\n",
              "min    1949.000000  104.000000\n",
              "25%    1951.750000  180.000000\n",
              "50%    1954.500000  265.500000\n",
              "75%    1957.250000  360.500000\n",
              "max    1960.000000  622.000000"
            ]
          },
          "execution_count": 100,
          "metadata": {},
          "output_type": "execute_result"
        }
      ],
      "source": [
        "flights_df.describe()"
      ]
    },
    {
      "cell_type": "code",
      "execution_count": 101,
      "metadata": {
        "id": "bxK5gU7sPwgA"
      },
      "outputs": [
        {
          "data": {
            "text/html": [
              "<div>\n",
              "<style scoped>\n",
              "    .dataframe tbody tr th:only-of-type {\n",
              "        vertical-align: middle;\n",
              "    }\n",
              "\n",
              "    .dataframe tbody tr th {\n",
              "        vertical-align: top;\n",
              "    }\n",
              "\n",
              "    .dataframe thead th {\n",
              "        text-align: right;\n",
              "    }\n",
              "</style>\n",
              "<table border=\"1\" class=\"dataframe\">\n",
              "  <thead>\n",
              "    <tr style=\"text-align: right;\">\n",
              "      <th></th>\n",
              "      <th>passengers</th>\n",
              "    </tr>\n",
              "  </thead>\n",
              "  <tbody>\n",
              "    <tr>\n",
              "      <th>count</th>\n",
              "      <td>144.000000</td>\n",
              "    </tr>\n",
              "    <tr>\n",
              "      <th>mean</th>\n",
              "      <td>280.298611</td>\n",
              "    </tr>\n",
              "    <tr>\n",
              "      <th>std</th>\n",
              "      <td>119.966317</td>\n",
              "    </tr>\n",
              "    <tr>\n",
              "      <th>min</th>\n",
              "      <td>104.000000</td>\n",
              "    </tr>\n",
              "    <tr>\n",
              "      <th>25%</th>\n",
              "      <td>180.000000</td>\n",
              "    </tr>\n",
              "    <tr>\n",
              "      <th>50%</th>\n",
              "      <td>265.500000</td>\n",
              "    </tr>\n",
              "    <tr>\n",
              "      <th>75%</th>\n",
              "      <td>360.500000</td>\n",
              "    </tr>\n",
              "    <tr>\n",
              "      <th>max</th>\n",
              "      <td>622.000000</td>\n",
              "    </tr>\n",
              "  </tbody>\n",
              "</table>\n",
              "</div>"
            ],
            "text/plain": [
              "       passengers\n",
              "count  144.000000\n",
              "mean   280.298611\n",
              "std    119.966317\n",
              "min    104.000000\n",
              "25%    180.000000\n",
              "50%    265.500000\n",
              "75%    360.500000\n",
              "max    622.000000"
            ]
          },
          "execution_count": 101,
          "metadata": {},
          "output_type": "execute_result"
        }
      ],
      "source": [
        "#Convertimos el tipo de dato\n",
        "flights_df[\"year\"] = flights_df[\"year\"].astype(\"category\")\n",
        "flights_df[\"month\"] = flights_df[\"month\"].astype(\"category\")\n",
        "flights_df.describe()"
      ]
    },
    {
      "cell_type": "code",
      "execution_count": 102,
      "metadata": {
        "id": "3t06eCkE_QFF"
      },
      "outputs": [
        {
          "data": {
            "text/html": [
              "<div>\n",
              "<style scoped>\n",
              "    .dataframe tbody tr th:only-of-type {\n",
              "        vertical-align: middle;\n",
              "    }\n",
              "\n",
              "    .dataframe tbody tr th {\n",
              "        vertical-align: top;\n",
              "    }\n",
              "\n",
              "    .dataframe thead th {\n",
              "        text-align: right;\n",
              "    }\n",
              "</style>\n",
              "<table border=\"1\" class=\"dataframe\">\n",
              "  <thead>\n",
              "    <tr style=\"text-align: right;\">\n",
              "      <th></th>\n",
              "      <th>year</th>\n",
              "      <th>month</th>\n",
              "      <th>passengers</th>\n",
              "    </tr>\n",
              "  </thead>\n",
              "  <tbody>\n",
              "    <tr>\n",
              "      <th>0</th>\n",
              "      <td>1949</td>\n",
              "      <td>Jan</td>\n",
              "      <td>112</td>\n",
              "    </tr>\n",
              "    <tr>\n",
              "      <th>1</th>\n",
              "      <td>1949</td>\n",
              "      <td>Feb</td>\n",
              "      <td>118</td>\n",
              "    </tr>\n",
              "    <tr>\n",
              "      <th>2</th>\n",
              "      <td>1949</td>\n",
              "      <td>Mar</td>\n",
              "      <td>132</td>\n",
              "    </tr>\n",
              "    <tr>\n",
              "      <th>3</th>\n",
              "      <td>1949</td>\n",
              "      <td>Apr</td>\n",
              "      <td>129</td>\n",
              "    </tr>\n",
              "    <tr>\n",
              "      <th>4</th>\n",
              "      <td>1949</td>\n",
              "      <td>May</td>\n",
              "      <td>121</td>\n",
              "    </tr>\n",
              "  </tbody>\n",
              "</table>\n",
              "</div>"
            ],
            "text/plain": [
              "   year month  passengers\n",
              "0  1949   Jan         112\n",
              "1  1949   Feb         118\n",
              "2  1949   Mar         132\n",
              "3  1949   Apr         129\n",
              "4  1949   May         121"
            ]
          },
          "execution_count": 102,
          "metadata": {},
          "output_type": "execute_result"
        }
      ],
      "source": [
        "flights_df.head(5)"
      ]
    },
    {
      "cell_type": "code",
      "execution_count": 103,
      "metadata": {
        "id": "8ysL2rr1PwgC"
      },
      "outputs": [],
      "source": [
        "#cambiamos la estructura del dataframe tener la necesaria para la grafica\n",
        "flights_df = flights_df.pivot_table(index = 'year', columns='month', values= 'passengers').rename_axis(None, axis=1)"
      ]
    },
    {
      "cell_type": "code",
      "execution_count": 106,
      "metadata": {
        "id": "5w2BJ7zCPwgD"
      },
      "outputs": [
        {
          "data": {
            "text/plain": [
              "<AxesSubplot:xlabel='year'>"
            ]
          },
          "execution_count": 106,
          "metadata": {},
          "output_type": "execute_result"
        },
        {
          "data": {
            "image/png": "[encoded data removed]",
            "text/plain": [
              "<Figure size 432x288 with 1 Axes>"
            ]
          },
          "metadata": {
            "needs_background": "light"
          },
          "output_type": "display_data"
        }
      ],
      "source": [
        "flights_df.plot.bar(stacked=True, rot=45)"
      ]
    },
    {
      "cell_type": "code",
      "execution_count": null,
      "metadata": {
        "id": "aa1Em-VNPwgE"
      },
      "outputs": [],
      "source": [
        "\n",
        "#Rotamos a 45 grados los titulos de las barras del eje x"
      ]
    },
    {
      "cell_type": "markdown",
      "metadata": {
        "id": "RsnlWrhdPwgF"
      },
      "source": [
        "**Recuerda:** la cantidad de barras que verás en la gráfica corresponde con la cantidad de columnas numéricas en tu dataset"
      ]
    },
    {
      "cell_type": "markdown",
      "metadata": {
        "id": "NPOnQMc0PwgK"
      },
      "source": [
        "## 5. Gráfica de caja o bigotes (Box plot)"
      ]
    },
    {
      "cell_type": "markdown",
      "metadata": {
        "id": "Lutf41ojPwgK"
      },
      "source": [
        "![image.png](https://storage.googleapis.com/campus-cvs/lectures/4.1%20Boxplot.png)"
      ]
    },
    {
      "cell_type": "markdown",
      "metadata": {
        "id": "JwrFj2-LmxtY"
      },
      "source": [
        "[mas info aqui](https://www.analisisdedatos.org/single-post/2019/04/05/c%C3%B3mo-se-interpreta-un-diagrama-de-cajas-y-bigotes)\n"
      ]
    },
    {
      "cell_type": "markdown",
      "metadata": {
        "id": "4_XQf6I_PwgL"
      },
      "source": [
        "#### Un boxplot solito para ver la distribución de una sola variable"
      ]
    },
    {
      "cell_type": "code",
      "execution_count": 107,
      "metadata": {
        "id": "fY13sDILPwgM"
      },
      "outputs": [
        {
          "data": {
            "text/plain": [
              "<AxesSubplot:ylabel='sepal_length'>"
            ]
          },
          "execution_count": 107,
          "metadata": {},
          "output_type": "execute_result"
        },
        {
          "data": {
            "image/png": "[encoded data removed]",
            "text/plain": [
              "<Figure size 432x288 with 1 Axes>"
            ]
          },
          "metadata": {
            "needs_background": "light"
          },
          "output_type": "display_data"
        }
      ],
      "source": [
        "sns.boxplot( y = iris['sepal_length'] )                                                                                                 #https://seaborn.pydata.org/generated/seaborn.boxplot.html"
      ]
    },
    {
      "cell_type": "code",
      "execution_count": 108,
      "metadata": {
        "id": "KFu-hH9rr_m3"
      },
      "outputs": [
        {
          "data": {
            "text/plain": [
              "count    150.000000\n",
              "mean       5.843333\n",
              "std        0.828066\n",
              "min        4.300000\n",
              "25%        5.100000\n",
              "50%        5.800000\n",
              "75%        6.400000\n",
              "max        7.900000\n",
              "Name: sepal_length, dtype: float64"
            ]
          },
          "execution_count": 108,
          "metadata": {},
          "output_type": "execute_result"
        }
      ],
      "source": [
        "#Podemos acompañar la grafica con esta sentencia para conocer los valores exactos de las estadisticas descriptivas.\n",
        "iris['sepal_length'].describe()"
      ]
    },
    {
      "cell_type": "markdown",
      "metadata": {
        "id": "48Q_eiYWPwgN"
      },
      "source": [
        "#### Múltiples boxplots para identificar distribuciones por categorías"
      ]
    },
    {
      "cell_type": "code",
      "execution_count": 109,
      "metadata": {
        "id": "LmjzDh0CPwgO"
      },
      "outputs": [
        {
          "data": {
            "text/plain": [
              "<AxesSubplot:xlabel='species', ylabel='sepal_length'>"
            ]
          },
          "execution_count": 109,
          "metadata": {},
          "output_type": "execute_result"
        },
        {
          "data": {
            "image/png": "[encoded data removed]",
            "text/plain": [
              "<Figure size 432x288 with 1 Axes>"
            ]
          },
          "metadata": {
            "needs_background": "light"
          },
          "output_type": "display_data"
        }
      ],
      "source": [
        "my_vars = {'versicolor': 'green', 'setosa': 'blue', 'virginica':'red'}\n",
        "sns.boxplot(x = iris['species'], y = iris['sepal_length'], palette=my_vars)"
      ]
    },
    {
      "cell_type": "markdown",
      "metadata": {
        "id": "-dkIP8bZPwgQ"
      },
      "source": [
        "## 6. Mapa de calor (Heatmap)"
      ]
    },
    {
      "cell_type": "code",
      "execution_count": 111,
      "metadata": {
        "id": "meRrv92PPwgR"
      },
      "outputs": [
        {
          "data": {
            "text/html": [
              "<div>\n",
              "<style scoped>\n",
              "    .dataframe tbody tr th:only-of-type {\n",
              "        vertical-align: middle;\n",
              "    }\n",
              "\n",
              "    .dataframe tbody tr th {\n",
              "        vertical-align: top;\n",
              "    }\n",
              "\n",
              "    .dataframe thead th {\n",
              "        text-align: right;\n",
              "    }\n",
              "</style>\n",
              "<table border=\"1\" class=\"dataframe\">\n",
              "  <thead>\n",
              "    <tr style=\"text-align: right;\">\n",
              "      <th></th>\n",
              "      <th>year</th>\n",
              "      <th>month</th>\n",
              "      <th>passengers</th>\n",
              "    </tr>\n",
              "  </thead>\n",
              "  <tbody>\n",
              "    <tr>\n",
              "      <th>0</th>\n",
              "      <td>1949</td>\n",
              "      <td>Jan</td>\n",
              "      <td>112</td>\n",
              "    </tr>\n",
              "    <tr>\n",
              "      <th>1</th>\n",
              "      <td>1949</td>\n",
              "      <td>Feb</td>\n",
              "      <td>118</td>\n",
              "    </tr>\n",
              "    <tr>\n",
              "      <th>2</th>\n",
              "      <td>1949</td>\n",
              "      <td>Mar</td>\n",
              "      <td>132</td>\n",
              "    </tr>\n",
              "    <tr>\n",
              "      <th>3</th>\n",
              "      <td>1949</td>\n",
              "      <td>Apr</td>\n",
              "      <td>129</td>\n",
              "    </tr>\n",
              "    <tr>\n",
              "      <th>4</th>\n",
              "      <td>1949</td>\n",
              "      <td>May</td>\n",
              "      <td>121</td>\n",
              "    </tr>\n",
              "    <tr>\n",
              "      <th>...</th>\n",
              "      <td>...</td>\n",
              "      <td>...</td>\n",
              "      <td>...</td>\n",
              "    </tr>\n",
              "    <tr>\n",
              "      <th>139</th>\n",
              "      <td>1960</td>\n",
              "      <td>Aug</td>\n",
              "      <td>606</td>\n",
              "    </tr>\n",
              "    <tr>\n",
              "      <th>140</th>\n",
              "      <td>1960</td>\n",
              "      <td>Sep</td>\n",
              "      <td>508</td>\n",
              "    </tr>\n",
              "    <tr>\n",
              "      <th>141</th>\n",
              "      <td>1960</td>\n",
              "      <td>Oct</td>\n",
              "      <td>461</td>\n",
              "    </tr>\n",
              "    <tr>\n",
              "      <th>142</th>\n",
              "      <td>1960</td>\n",
              "      <td>Nov</td>\n",
              "      <td>390</td>\n",
              "    </tr>\n",
              "    <tr>\n",
              "      <th>143</th>\n",
              "      <td>1960</td>\n",
              "      <td>Dec</td>\n",
              "      <td>432</td>\n",
              "    </tr>\n",
              "  </tbody>\n",
              "</table>\n",
              "<p>144 rows × 3 columns</p>\n",
              "</div>"
            ],
            "text/plain": [
              "     year month  passengers\n",
              "0    1949   Jan         112\n",
              "1    1949   Feb         118\n",
              "2    1949   Mar         132\n",
              "3    1949   Apr         129\n",
              "4    1949   May         121\n",
              "..    ...   ...         ...\n",
              "139  1960   Aug         606\n",
              "140  1960   Sep         508\n",
              "141  1960   Oct         461\n",
              "142  1960   Nov         390\n",
              "143  1960   Dec         432\n",
              "\n",
              "[144 rows x 3 columns]"
            ]
          },
          "execution_count": 111,
          "metadata": {},
          "output_type": "execute_result"
        }
      ],
      "source": [
        "flights"
      ]
    },
    {
      "cell_type": "code",
      "execution_count": 115,
      "metadata": {
        "id": "8_wd-W8XPwgR"
      },
      "outputs": [
        {
          "data": {
            "text/html": [
              "<div>\n",
              "<style scoped>\n",
              "    .dataframe tbody tr th:only-of-type {\n",
              "        vertical-align: middle;\n",
              "    }\n",
              "\n",
              "    .dataframe tbody tr th {\n",
              "        vertical-align: top;\n",
              "    }\n",
              "\n",
              "    .dataframe thead th {\n",
              "        text-align: right;\n",
              "    }\n",
              "</style>\n",
              "<table border=\"1\" class=\"dataframe\">\n",
              "  <thead>\n",
              "    <tr style=\"text-align: right;\">\n",
              "      <th>year</th>\n",
              "      <th>1949</th>\n",
              "      <th>1950</th>\n",
              "      <th>1951</th>\n",
              "      <th>1952</th>\n",
              "      <th>1953</th>\n",
              "      <th>1954</th>\n",
              "      <th>1955</th>\n",
              "      <th>1956</th>\n",
              "      <th>1957</th>\n",
              "      <th>1958</th>\n",
              "      <th>1959</th>\n",
              "      <th>1960</th>\n",
              "    </tr>\n",
              "    <tr>\n",
              "      <th>month</th>\n",
              "      <th></th>\n",
              "      <th></th>\n",
              "      <th></th>\n",
              "      <th></th>\n",
              "      <th></th>\n",
              "      <th></th>\n",
              "      <th></th>\n",
              "      <th></th>\n",
              "      <th></th>\n",
              "      <th></th>\n",
              "      <th></th>\n",
              "      <th></th>\n",
              "    </tr>\n",
              "  </thead>\n",
              "  <tbody>\n",
              "    <tr>\n",
              "      <th>Jan</th>\n",
              "      <td>112</td>\n",
              "      <td>115</td>\n",
              "      <td>145</td>\n",
              "      <td>171</td>\n",
              "      <td>196</td>\n",
              "      <td>204</td>\n",
              "      <td>242</td>\n",
              "      <td>284</td>\n",
              "      <td>315</td>\n",
              "      <td>340</td>\n",
              "      <td>360</td>\n",
              "      <td>417</td>\n",
              "    </tr>\n",
              "    <tr>\n",
              "      <th>Feb</th>\n",
              "      <td>118</td>\n",
              "      <td>126</td>\n",
              "      <td>150</td>\n",
              "      <td>180</td>\n",
              "      <td>196</td>\n",
              "      <td>188</td>\n",
              "      <td>233</td>\n",
              "      <td>277</td>\n",
              "      <td>301</td>\n",
              "      <td>318</td>\n",
              "      <td>342</td>\n",
              "      <td>391</td>\n",
              "    </tr>\n",
              "    <tr>\n",
              "      <th>Mar</th>\n",
              "      <td>132</td>\n",
              "      <td>141</td>\n",
              "      <td>178</td>\n",
              "      <td>193</td>\n",
              "      <td>236</td>\n",
              "      <td>235</td>\n",
              "      <td>267</td>\n",
              "      <td>317</td>\n",
              "      <td>356</td>\n",
              "      <td>362</td>\n",
              "      <td>406</td>\n",
              "      <td>419</td>\n",
              "    </tr>\n",
              "    <tr>\n",
              "      <th>Apr</th>\n",
              "      <td>129</td>\n",
              "      <td>135</td>\n",
              "      <td>163</td>\n",
              "      <td>181</td>\n",
              "      <td>235</td>\n",
              "      <td>227</td>\n",
              "      <td>269</td>\n",
              "      <td>313</td>\n",
              "      <td>348</td>\n",
              "      <td>348</td>\n",
              "      <td>396</td>\n",
              "      <td>461</td>\n",
              "    </tr>\n",
              "    <tr>\n",
              "      <th>May</th>\n",
              "      <td>121</td>\n",
              "      <td>125</td>\n",
              "      <td>172</td>\n",
              "      <td>183</td>\n",
              "      <td>229</td>\n",
              "      <td>234</td>\n",
              "      <td>270</td>\n",
              "      <td>318</td>\n",
              "      <td>355</td>\n",
              "      <td>363</td>\n",
              "      <td>420</td>\n",
              "      <td>472</td>\n",
              "    </tr>\n",
              "    <tr>\n",
              "      <th>Jun</th>\n",
              "      <td>135</td>\n",
              "      <td>149</td>\n",
              "      <td>178</td>\n",
              "      <td>218</td>\n",
              "      <td>243</td>\n",
              "      <td>264</td>\n",
              "      <td>315</td>\n",
              "      <td>374</td>\n",
              "      <td>422</td>\n",
              "      <td>435</td>\n",
              "      <td>472</td>\n",
              "      <td>535</td>\n",
              "    </tr>\n",
              "    <tr>\n",
              "      <th>Jul</th>\n",
              "      <td>148</td>\n",
              "      <td>170</td>\n",
              "      <td>199</td>\n",
              "      <td>230</td>\n",
              "      <td>264</td>\n",
              "      <td>302</td>\n",
              "      <td>364</td>\n",
              "      <td>413</td>\n",
              "      <td>465</td>\n",
              "      <td>491</td>\n",
              "      <td>548</td>\n",
              "      <td>622</td>\n",
              "    </tr>\n",
              "    <tr>\n",
              "      <th>Aug</th>\n",
              "      <td>148</td>\n",
              "      <td>170</td>\n",
              "      <td>199</td>\n",
              "      <td>242</td>\n",
              "      <td>272</td>\n",
              "      <td>293</td>\n",
              "      <td>347</td>\n",
              "      <td>405</td>\n",
              "      <td>467</td>\n",
              "      <td>505</td>\n",
              "      <td>559</td>\n",
              "      <td>606</td>\n",
              "    </tr>\n",
              "    <tr>\n",
              "      <th>Sep</th>\n",
              "      <td>136</td>\n",
              "      <td>158</td>\n",
              "      <td>184</td>\n",
              "      <td>209</td>\n",
              "      <td>237</td>\n",
              "      <td>259</td>\n",
              "      <td>312</td>\n",
              "      <td>355</td>\n",
              "      <td>404</td>\n",
              "      <td>404</td>\n",
              "      <td>463</td>\n",
              "      <td>508</td>\n",
              "    </tr>\n",
              "    <tr>\n",
              "      <th>Oct</th>\n",
              "      <td>119</td>\n",
              "      <td>133</td>\n",
              "      <td>162</td>\n",
              "      <td>191</td>\n",
              "      <td>211</td>\n",
              "      <td>229</td>\n",
              "      <td>274</td>\n",
              "      <td>306</td>\n",
              "      <td>347</td>\n",
              "      <td>359</td>\n",
              "      <td>407</td>\n",
              "      <td>461</td>\n",
              "    </tr>\n",
              "    <tr>\n",
              "      <th>Nov</th>\n",
              "      <td>104</td>\n",
              "      <td>114</td>\n",
              "      <td>146</td>\n",
              "      <td>172</td>\n",
              "      <td>180</td>\n",
              "      <td>203</td>\n",
              "      <td>237</td>\n",
              "      <td>271</td>\n",
              "      <td>305</td>\n",
              "      <td>310</td>\n",
              "      <td>362</td>\n",
              "      <td>390</td>\n",
              "    </tr>\n",
              "    <tr>\n",
              "      <th>Dec</th>\n",
              "      <td>118</td>\n",
              "      <td>140</td>\n",
              "      <td>166</td>\n",
              "      <td>194</td>\n",
              "      <td>201</td>\n",
              "      <td>229</td>\n",
              "      <td>278</td>\n",
              "      <td>306</td>\n",
              "      <td>336</td>\n",
              "      <td>337</td>\n",
              "      <td>405</td>\n",
              "      <td>432</td>\n",
              "    </tr>\n",
              "  </tbody>\n",
              "</table>\n",
              "</div>"
            ],
            "text/plain": [
              "year   1949  1950  1951  1952  1953  1954  1955  1956  1957  1958  1959  1960\n",
              "month                                                                        \n",
              "Jan     112   115   145   171   196   204   242   284   315   340   360   417\n",
              "Feb     118   126   150   180   196   188   233   277   301   318   342   391\n",
              "Mar     132   141   178   193   236   235   267   317   356   362   406   419\n",
              "Apr     129   135   163   181   235   227   269   313   348   348   396   461\n",
              "May     121   125   172   183   229   234   270   318   355   363   420   472\n",
              "Jun     135   149   178   218   243   264   315   374   422   435   472   535\n",
              "Jul     148   170   199   230   264   302   364   413   465   491   548   622\n",
              "Aug     148   170   199   242   272   293   347   405   467   505   559   606\n",
              "Sep     136   158   184   209   237   259   312   355   404   404   463   508\n",
              "Oct     119   133   162   191   211   229   274   306   347   359   407   461\n",
              "Nov     104   114   146   172   180   203   237   271   305   310   362   390\n",
              "Dec     118   140   166   194   201   229   278   306   336   337   405   432"
            ]
          },
          "execution_count": 115,
          "metadata": {},
          "output_type": "execute_result"
        }
      ],
      "source": [
        "flights_pivot = flights.pivot('month', 'year', 'passengers')\n",
        "flights_pivot"
      ]
    },
    {
      "cell_type": "code",
      "execution_count": 118,
      "metadata": {
        "id": "sWkAB6CkPwgT"
      },
      "outputs": [
        {
          "data": {
            "text/plain": [
              "<AxesSubplot:ylabel='year'>"
            ]
          },
          "execution_count": 118,
          "metadata": {},
          "output_type": "execute_result"
        },
        {
          "data": {
            "image/png": "[encoded data removed]",
            "text/plain": [
              "<Figure size 432x288 with 2 Axes>"
            ]
          },
          "metadata": {
            "needs_background": "light"
          },
          "output_type": "display_data"
        }
      ],
      "source": [
        "# Graficamos utilizando distintas escalas de color\n",
        "#sns.heatmap(flights, cmap=\"YlGnBu\")\n",
        "sns.heatmap(flights_df, cmap=\"Blues\")\n",
        "#sns.heatmap(flights, cmap=\"BuPu\")\n",
        "#sns.heatmap(flights, cmap=\"Greens\")"
      ]
    },
    {
      "cell_type": "markdown",
      "metadata": {
        "id": "nABMLT4ZPwgT"
      },
      "source": [
        "## 7. Correlogram"
      ]
    },
    {
      "cell_type": "markdown",
      "metadata": {
        "id": "h52RHL4_PwgV"
      },
      "source": [
        "#### Con subgrupos"
      ]
    },
    {
      "cell_type": "code",
      "execution_count": 119,
      "metadata": {
        "id": "4PjtJDIkPwgW"
      },
      "outputs": [
        {
          "data": {
            "text/plain": [
              "<seaborn.axisgrid.PairGrid at 0x151d4417e20>"
            ]
          },
          "execution_count": 119,
          "metadata": {},
          "output_type": "execute_result"
        },
        {
          "data": {
            "image/png": "[encoded data removed]",
            "text/plain": [
              "<Figure size 804.75x720 with 20 Axes>"
            ]
          },
          "metadata": {
            "needs_background": "light"
          },
          "output_type": "display_data"
        }
      ],
      "source": [
        "#Trazar relaciones por pares en un conjunto de datos.\n",
        "sns.pairplot(iris, kind='scatter', hue= 'species', markers=['o', 's', 'D'], palette='Set2')\n"
      ]
    },
    {
      "cell_type": "markdown",
      "metadata": {
        "id": "QhjcceNGPwgc"
      },
      "source": [
        "## Material de referencia"
      ]
    },
    {
      "cell_type": "markdown",
      "metadata": {
        "id": "QxQ7M8uoPwgd"
      },
      "source": [
        "- [From Data to Viz](https://www.data-to-viz.com/)\n",
        "- [Python Graph Gallery](https://python-graph-gallery.com/)\n",
        "- [Documentación de Seaborn](https://seaborn.pydata.org/examples/index.html)\n",
        "- [Cómo la curva del elefante te ayudará a entender qué ha pasado con la desigualdad en el mundo](https://www.bbc.com/mundo/noticias-55699513)\n",
        "- [Paletas de color de matplotlib (cmaps)](https://matplotlib.org/stable/tutorials/colors/colormaps.html)"
      ]
    }
  ],
  "metadata": {
    "colab": {
      "name": "DataVisualization.ipynb",
      "provenance": []
    },
    "kernelspec": {
      "display_name": "Python 3.9.7 ('BigData')",
      "language": "python",
      "name": "python3"
    },
    "language_info": {
      "codemirror_mode": {
        "name": "ipython",
        "version": 3
      },
      "file_extension": ".py",
      "mimetype": "text/x-python",
      "name": "python",
      "nbconvert_exporter": "python",
      "pygments_lexer": "ipython3",
      "version": "3.9.7"
    },
    "toc-autonumbering": true,
    "toc-showcode": false,
    "toc-showmarkdowntxt": false,
    "vscode": {
      "interpreter": {
        "hash": "3c70fc57600e0a9ec712e792b800caeb31e6c4ec90fc9def930f513d990f8293"
      }
    }
  },
  "nbformat": 4,
  "nbformat_minor": 0
}
